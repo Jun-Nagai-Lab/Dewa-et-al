{
 "cells": [
  {
   "cell_type": "code",
   "execution_count": null,
   "id": "2b010bc9-f3af-41f5-8862-c018f4c3086f",
   "metadata": {},
   "outputs": [],
   "source": [
    "#import library\n",
    "import numpy as np\n",
    "import pandas as pd\n",
    "import matplotlib.pyplot as plt"
   ]
  },
  {
   "cell_type": "code",
   "execution_count": null,
   "id": "bd20b095-1140-413e-8156-0f05d78fb214",
   "metadata": {},
   "outputs": [],
   "source": [
    "task_time =25 #task time (min)\n",
    "numberofraw = task_time * 60 * 1000\n",
    "\n",
    "binpath = 'path'\n",
    "with open(binpath, \"rb\") as f:\n",
    "  data = f.read()\n",
    "  raw_data = np.frombuffer(data, dtype=np.float64)\n",
    "  raw_data = raw_data.reshape(-1, 5)\n",
    "\n",
    "if len(raw_data) > numberofraw:\n",
    "  raw_data = raw_data[:numberofraw]\n",
    "  #[isosbestic_trigger, green_trigger, flo_data, red_data, red_trigger]\n",
    "  original_time = [(i+1)/1000 for i in range (len(raw_data))] # to second\n",
    "  iso_trigger = raw_data[:, 0]\n",
    "  green_trigger = raw_data[:, 1]\n",
    "  flo_data = raw_data[:, 2] #405nm, 465nm\n",
    "  red_data = raw_data[:, 3]\n",
    "  red_trigger = raw_data[:, 4]"
   ]
  },
  {
   "cell_type": "code",
   "execution_count": null,
   "id": "c46d73fb-a08c-40a7-88c1-f59a79b45233",
   "metadata": {},
   "outputs": [],
   "source": [
    "def logi_func(trigger_data):\n",
    "  '''\n",
    "  On:1\n",
    "  Off:0\n",
    "  Exclude 2msec at the start and end of excitation light on because of noise\n",
    "  '''\n",
    "  logi_list = []\n",
    "  threshold = 4\n",
    "  count = 0\n",
    "    \n",
    "  trigger_on_start_point = 2\n",
    "  trigger_on_end_point = 14\n",
    "\n",
    "  for trigger in trigger_data:\n",
    "    if trigger > threshold:\n",
    "      count += 1\n",
    "      if trigger_on_start_point < count < trigger_on_end_point:\n",
    "        logi_list.append(1)\n",
    "      else:\n",
    "        logi_list.append(0)\n",
    "    else:\n",
    "      count = 0\n",
    "      logi_list.append(0)\n",
    "\n",
    "  return np.array(logi_list)"
   ]
  },
  {
   "cell_type": "code",
   "execution_count": null,
   "id": "87b79030-6bee-414d-89a5-330a1b08d9fc",
   "metadata": {},
   "outputs": [],
   "source": [
    "iso_trigger_logiSeq = logi_func(iso_trigger)\n",
    "green_trigger_logiSeq = logi_func(green_trigger)\n",
    "red_trigger_logiSeq = logi_func(red_trigger)\n",
    "\n",
    "#excitation start:1, excitation end:0\n",
    "#Get start and end indexes\n",
    "iso_diff = np.diff(iso_trigger_logiSeq)\n",
    "iso_start_index = [np.where(iso_diff == 1)[0] + 1][0]\n",
    "iso_end_index = [np.where(iso_diff == -1)[0] + 1][0]\n",
    "\n",
    "green_diff = np.diff(green_trigger_logiSeq)\n",
    "green_start_index = [np.where(green_diff == 1)[0] + 1][0]\n",
    "green_end_index = [np.where(green_diff == -1)[0] + 1][0]\n",
    "\n",
    "red_diff = np.diff(red_trigger_logiSeq)\n",
    "red_start_index = [np.where(red_diff == 1)[0] + 1][0]\n",
    "red_end_index = [np.where(red_diff == -1)[0] + 1][0]"
   ]
  },
  {
   "cell_type": "code",
   "execution_count": null,
   "id": "4b2994ef-fc65-412f-b14d-60d8d17c3a26",
   "metadata": {},
   "outputs": [],
   "source": [
    "#Remove bugs\n",
    "if green_start_index[-1] - green_end_index[-1] > 0:\n",
    "  green_start_index = green_start_index[:-1]\n",
    "elif iso_start_index[-1] - iso_end_index[-1] > 0:\n",
    "  iso_start_index = iso_start_index[:-1]\n",
    "elif red_start_index[-1] - red_end_index[-1] > 0:\n",
    "  red_start_index = red_start_index[:-1]\n",
    "\n",
    "if green_start_index[0] - green_end_index[0] > 0:\n",
    "  green_end_index = green_end_index[1:]\n",
    "elif iso_start_index[0] - iso_end_index[0] > 0:\n",
    "  iso_end_index = iso_end_index[1:]\n",
    "elif red_start_index[0] - red_end_index[0] > 0:\n",
    "  red_end_index = red_end_index[1:]"
   ]
  },
  {
   "cell_type": "code",
   "execution_count": null,
   "id": "2f9caf00-75d9-4468-80f9-7e563708816d",
   "metadata": {},
   "outputs": [],
   "source": [
    "#Remove bugs\n",
    "if len(iso_start_index) > len(green_start_index):\n",
    "  iso_start_index = iso_start_index[1:]\n",
    "  iso_end_index = iso_end_index[1:]\n",
    "elif len(iso_start_index) < len(green_start_index):\n",
    "  green_start_index = green_start_index[1:]\n",
    "  green_end_index = green_end_index[1:]\n",
    "\n",
    "if len(iso_start_index) > len(red_start_index):\n",
    "  iso_start_index = iso_start_index[1:]\n",
    "  iso_end_index = iso_end_index[1:]\n",
    "elif len(iso_start_index) < len(red_start_index):\n",
    "  red_start_index = red_start_index[1:]\n",
    "  red_end_index = red_end_index[1:]\n",
    "\n",
    "if len(green_start_index) > len(red_start_index):\n",
    "  green_start_index = green_start_index[1:]\n",
    "  green_end_index = green_end_index[1:]\n",
    "elif len(green_start_index) < len(red_start_index):\n",
    "  red_start_index = red_start_index[1:]\n",
    "  red_end_index = red_end_index[1:]"
   ]
  },
  {
   "cell_type": "code",
   "execution_count": null,
   "id": "901dad95-1d1a-400f-b690-42ccf3f3e181",
   "metadata": {},
   "outputs": [],
   "source": [
    "def data_point_ave_func(start_index, end_index, data):\n",
    "  '''\n",
    "  Calculate average of 1 pulse (11 data point/average)\n",
    "  '''\n",
    "  data_list = []\n",
    "  time_list = []\n",
    "  try:\n",
    "    for start, end in zip(start_index, end_index):\n",
    "      data_list.append(np.mean(data[start:end]))\n",
    "      time_list.append(np.mean(original_time[start:end]))\n",
    "  except IndexError:\n",
    "    pass\n",
    "\n",
    "  return data_list, time_list"
   ]
  },
  {
   "cell_type": "code",
   "execution_count": null,
   "id": "44ce0da3-eed4-4130-acb8-2a76bd44e5d5",
   "metadata": {},
   "outputs": [],
   "source": [
    "iso_ave, iso_time = data_point_ave_func(iso_start_index, iso_end_index, flo_data)\n",
    "green_ave, green_time = data_point_ave_func(green_start_index, green_end_index, flo_data)\n",
    "red_ave, red_time = data_point_ave_func(red_start_index, red_end_index, red_data)"
   ]
  },
  {
   "cell_type": "code",
   "execution_count": null,
   "id": "aa8cf362-0f30-43e3-85f5-26a54058fbc8",
   "metadata": {},
   "outputs": [],
   "source": [
    "if len(iso_ave) < len(green_ave):\n",
    "  green_ave = green_ave[:len(iso_ave)]\n",
    "  green_time = green_time[:len(iso_ave)]\n",
    "elif len(iso_ave) > len(green_ave):\n",
    "  iso_ave = iso_ave[:len(green_ave)]\n",
    "  iso_time = iso_time[:len(green_ave)]\n",
    "\n",
    "if len(iso_ave) < len(red_ave):\n",
    "  red_ave = red_ave[:len(iso_ave)]\n",
    "  red_time = red_time[:len(iso_ave)]\n",
    "elif len(iso_ave) > len(red_ave):\n",
    "  iso_ave = iso_ave[:len(red_ave)]\n",
    "  iso_time = iso_time[:len(red_ave)]\n",
    "\n",
    "if len(green_ave) < len(red_ave):\n",
    "  red_ave = red_ave[:len(green_ave)]\n",
    "  red_time = red_time[:len(green_ave)]\n",
    "elif len(green_ave) > len(red_ave):\n",
    "  green_ave = green_ave[:len(red_ave)]\n",
    "  green_time = green_time[:len(red_ave)]"
   ]
  },
  {
   "cell_type": "code",
   "execution_count": null,
   "id": "e7c0b4c0-4cfd-4b00-9f7c-ee1e3c9220ef",
   "metadata": {},
   "outputs": [],
   "source": [
    "#Calculate moving average\n",
    "num_conv = np.ones(20)/ 20\n",
    "movingAve_iso = np.convolve(iso_ave, num_conv, mode=\"same\")\n",
    "movingAve_green = np.convolve(green_ave, num_conv, mode=\"same\")\n",
    "movingAve_red = np.convolve(red_ave, num_conv, mode=\"same\")\n",
    "\n",
    "#Make time list\n",
    "time_list = [i*0.05 for i in range(1, len(movingAve_iso)+1, 1)]"
   ]
  },
  {
   "cell_type": "code",
   "execution_count": null,
   "id": "68aac1c2-881c-4a8e-9079-f2e14a0168a1",
   "metadata": {},
   "outputs": [],
   "source": [
    "movingAve_flot = []\n",
    "movingAve_flot.append(time_list)\n",
    "movingAve_flot.append(movingAve_iso)\n",
    "movingAve_flot.append(movingAve_green)\n",
    "movingAve_flot.append(movingAve_red)\n",
    "\n",
    "df = pd.DataFrame(movingAve_flot, index=[\"time\", \"iso\", \"green\", \"red\"]).T\n",
    "df.to_excel('data.xlsx')"
   ]
  }
 ],
 "metadata": {
  "kernelspec": {
   "display_name": "Python 3 (ipykernel)",
   "language": "python",
   "name": "python3"
  },
  "language_info": {
   "codemirror_mode": {
    "name": "ipython",
    "version": 3
   },
   "file_extension": ".py",
   "mimetype": "text/x-python",
   "name": "python",
   "nbconvert_exporter": "python",
   "pygments_lexer": "ipython3",
   "version": "3.11.7"
  }
 },
 "nbformat": 4,
 "nbformat_minor": 5
}
