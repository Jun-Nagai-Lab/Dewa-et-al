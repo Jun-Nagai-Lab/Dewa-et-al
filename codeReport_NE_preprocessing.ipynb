{
 "cells": [
  {
   "cell_type": "code",
   "execution_count": null,
   "id": "7485cd12-d4ba-47bb-a0af-d630c5724bff",
   "metadata": {},
   "outputs": [],
   "source": [
    "#import library\n",
    "import numpy as np\n",
    "import pandas as pd\n",
    "import matplotlib.pyplot as plt"
   ]
  },
  {
   "cell_type": "code",
   "execution_count": null,
   "id": "b7844fa5-3c05-4821-aa59-c9f8792c7481",
   "metadata": {},
   "outputs": [],
   "source": [
    "taskTime = 25 #task time (min)\n",
    "rawNum = taskTime * 60 * 1000\n",
    "\n",
    "binPath = path\n",
    "with open(binPath, \"rb\") as f:\n",
    "  data = f.read()\n",
    "  rawData = np.frombuffer(data, dtype=np.float64)\n",
    "  rawData = rawData.reshape(-1, 4)\n",
    "\n",
    "if len(rawData) > rawNum:\n",
    "  rawData = rawData[:rawNum]\n",
    "  #[isosbestic_trigger, greenTri, flo_data]\n",
    "  originalTime = [(i+1)/1000 for i in range (len(rawData))] # to second\n",
    "  isoTri = rawData[:, 0]\n",
    "  greenTri = rawData[:, 1]\n",
    "  floData = rawData[:, 2] #include 405nm and 465nm"
   ]
  },
  {
   "cell_type": "code",
   "execution_count": null,
   "id": "06003f69-afb9-4796-8967-3df7457e43bf",
   "metadata": {},
   "outputs": [],
   "source": [
    "isoTriLogi = []\n",
    "greenTriLogi = []\n",
    "triThreshold = 4\n",
    "count = 0\n",
    "\n",
    "triStartPoint = 2\n",
    "triEndPoint = 19\n",
    "\n",
    "#LED on:1\n",
    "#Exclude 2msec at the start and end of excitation light on because of noise\n",
    "for isoNum in range(len(isoTri)):\n",
    "    if isoTri[isoNum] >= triThreshold:\n",
    "      count += 1\n",
    "      if triStartPoint < count < triEndPoint:\n",
    "        isoTriLogi.append(1)\n",
    "      else:\n",
    "        isoTriLogi.append(0)\n",
    "    else:\n",
    "      count = 0\n",
    "      isoTriLogi.append(0)\n",
    "\n",
    "for greenNum in range(len(greenTri)):\n",
    "    if greenTri[greenNum] >= triThreshold:\n",
    "      count += 1\n",
    "      if triStartPoint < count < triEndPoint:\n",
    "        greenTriLogi.append(1)\n",
    "      else:\n",
    "        greenTriLogi.append(0)\n",
    "    else:\n",
    "      count = 0\n",
    "      greenTriLogi.append(0)\n",
    "\n",
    "isoTriLogi = np.array(isoTriLogi)\n",
    "greenTriLogi = np.array(greenTriLogi)\n",
    "\n",
    "#excitation start:1, excitation end:0\n",
    "#Get start and end indexes\n",
    "isoDiff = np.diff(isoTriLogi)\n",
    "isoStartInd = [np.where(isoDiff == 1)[0] + 1][0]\n",
    "isoEndInd = [np.where(isoDiff == -1)[0] + 1][0]\n",
    "\n",
    "greenDiff = np.diff(greenTriLogi)\n",
    "greenStartInd = [np.where(greenDiff == 1)[0] + 1][0]\n",
    "greenEndInd = [np.where(greenDiff == -1)[0] + 1][0]"
   ]
  },
  {
   "cell_type": "code",
   "execution_count": null,
   "id": "0d1b7ad9-a002-4953-b81c-65cb557cb666",
   "metadata": {},
   "outputs": [],
   "source": [
    "#Remove bugs\n",
    "if greenStartInd[0] - greenEndInd[0] > 0:\n",
    "  greenEndInd = greenEndInd[1:]\n",
    "elif isoStartInd[0] - isoEndInd[0] > 0:\n",
    "  isoEndInd = isoEndInd[1:]\n",
    "\n",
    "if greenStartInd[-1] - greenEndInd[-1] > 0:\n",
    "  greenStartInd = greenStartInd[:-1]\n",
    "elif isoStartInd[-1] - isoEndInd[-1] > 0:\n",
    "  isoStartInd = isoStartInd[:-1]\n",
    "\n",
    "if len(isoStartInd) > len(greenStartInd):\n",
    "  isoStartInd = isoStartInd[1:]\n",
    "  isoEndInd = isoEndInd[1:]\n",
    "elif len(isoStartInd) < len(greenStartInd):\n",
    "  greenStartInd = greenStartInd[1:]\n",
    "  greenEndInd = greenEndInd[1:]"
   ]
  },
  {
   "cell_type": "code",
   "execution_count": null,
   "id": "cc1e63dd-4929-4519-8c40-539ecbf8f8f4",
   "metadata": {},
   "outputs": [],
   "source": [
    "isoMean = []\n",
    "greenMean = []\n",
    "greenMeanTime = []\n",
    "\n",
    "#Calculate the average of the fluorescence\n",
    "try:\n",
    "  for i in range(len(isoStartInd)):\n",
    "    isoMean.append(np.mean(floData[isoStartInd[i]:isoEndInd[i]]))\n",
    "except IndexError:\n",
    "  pass\n",
    "\n",
    "try:\n",
    "  for i in range(len(greenStartInd)):\n",
    "    greenMean.append(np.mean(floData[greenStartInd[i]:greenEndInd[i]]))\n",
    "    greenMeanTime.append(np.mean(originalTime[greenStartInd[i]:greenEndInd[i]]))\n",
    "except IndexError:\n",
    "  pass\n",
    "\n",
    "if len(isoMean) < len(greenMean):\n",
    "  greenMean = greenMean[:len(isoMean)]\n",
    "  greenMeanTime = greenMeanTime[:len(isoMean)]"
   ]
  },
  {
   "cell_type": "code",
   "execution_count": null,
   "id": "c3a636c9-913e-47dc-8d0a-c77fb8131f5a",
   "metadata": {},
   "outputs": [],
   "source": [
    "#Calculate moving average\n",
    "convNum = np.ones(20)/ 20\n",
    "isoMovingAve = np.convolve(isoMean, convNum, mode=\"same\")\n",
    "greenMovingAve = np.convolve(greenMean, convNum, mode=\"same\")\n",
    "\n",
    "#Make time list\n",
    "timeList = [i*0.05 for i in range(1, len(isoMovingAve)+1, 1)]"
   ]
  },
  {
   "cell_type": "code",
   "execution_count": null,
   "id": "031827c1-2ff4-4409-b941-7a0c24bbf389",
   "metadata": {},
   "outputs": [],
   "source": [
    "floMovingAve = []\n",
    "floMovingAve.append(timeList)\n",
    "floMovingAve.append(isoMovingAve)\n",
    "floMovingAve.append(greenMovingAve)\n",
    "\n",
    "df = pd.DataFrame(floMovingAve, index=[\"time\", \"iso\", \"green\"]).T"
   ]
  }
 ],
 "metadata": {
  "kernelspec": {
   "display_name": "Python 3 (ipykernel)",
   "language": "python",
   "name": "python3"
  },
  "language_info": {
   "codemirror_mode": {
    "name": "ipython",
    "version": 3
   },
   "file_extension": ".py",
   "mimetype": "text/x-python",
   "name": "python",
   "nbconvert_exporter": "python",
   "pygments_lexer": "ipython3",
   "version": "3.11.7"
  }
 },
 "nbformat": 4,
 "nbformat_minor": 5
}
