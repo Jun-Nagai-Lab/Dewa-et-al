{
 "cells": [
  {
   "cell_type": "code",
   "execution_count": null,
   "id": "79b51b59-3ab2-42fa-b3a9-38870393dd22",
   "metadata": {},
   "outputs": [],
   "source": [
    "import numpy as np\n",
    "import pandas as pd\n",
    "import matplotlib.pyplot as plt\n",
    "import scipy.stats\n",
    "from sklearn import metrics"
   ]
  },
  {
   "cell_type": "code",
   "execution_count": null,
   "id": "2911a44c-177a-48df-a99e-746464476bad",
   "metadata": {},
   "outputs": [],
   "source": [
    "hab = pd.read_excel(path)\n",
    "FC = pd.read_excel(path)\n",
    "FR = pd.read_excel(path)\n",
    "contB = pd.read_excel(path)"
   ]
  },
  {
   "cell_type": "code",
   "execution_count": null,
   "id": "f23d9650-9bb0-4a91-9629-b5f049c60c4a",
   "metadata": {},
   "outputs": [],
   "source": [
    "def idx_of_the_nearest(data, value):\n",
    "  '''\n",
    "  Get nearest index\n",
    "  value: Wanted timing\n",
    "  '''\n",
    "  idx = np.argmin(np.abs(np.array(data) - value))\n",
    "\n",
    "  return idx"
   ]
  },
  {
   "cell_type": "code",
   "execution_count": null,
   "id": "b04e39ad-1a71-4c01-9724-4b98d0175b3e",
   "metadata": {},
   "outputs": [],
   "source": [
    "def dFF_func(time, iso, green, BC_start_sec, BC_end_sec, BL_start_sec, BL_end_sec, fitting, mouse):\n",
    "    '''\n",
    "    Calculate dF/F\n",
    "    time: time list\n",
    "    iso: 405 data\n",
    "    green: 470 data\n",
    "    BC_start_sec: start time for fitting\n",
    "    BC_end_sec: end time for fitting\n",
    "    BL_start_sec: start time for baseline \n",
    "    BL_end_sec: end time for baseline\n",
    "    fitting: 1: use 470 signal for fitting, 0: use 405 signal for fitting\n",
    "    mouse: mouse number\n",
    "    '''\n",
    "    BC_start = idx_of_the_nearest(time_25min, BC_start_sec)\n",
    "    BC_end = idx_of_the_nearest(time_25min, BC_end_sec)\n",
    "    \n",
    "    BL_start = idx_of_the_nearest(time_25min, BL_start_sec)\n",
    "    BL_end = idx_of_the_nearest(time_25min, BL_end_sec)\n",
    "    \n",
    "    \n",
    "    add1 = [1 for i in range(len(green))]\n",
    "    \n",
    "    fit = np.polyfit(time, iso, 1)\n",
    "    fittedIso = fit[0] * np.array(time) + fit[1]\n",
    "    isoBC = iso - fittedIso\n",
    "    isoBCN = isoBC + add1\n",
    "    \n",
    "    fit = np.polyfit(time[BC_start:BC_end], green[BC_start:BC_end], 1)\n",
    "    fittedGreen = fit[0] * np.array(time) + fit[1]\n",
    "    \n",
    "    if fitting == 1:\n",
    "        greenBC = green - fittedGreen\n",
    "        greenBCN = greenBC + add1\n",
    "        \n",
    "    else:\n",
    "        greenBC = green - fittedIso\n",
    "        greenBCN = greenBC + add1\n",
    "        \n",
    "    BL_mean = np.mean(greenBCN[BL_start:BL_end] / isoBCN[BL_start:BL_end])\n",
    "    dFF = greenBCN / isoBCN - BL_mean\n",
    "    \n",
    "    fig_func(time, iso, green, fittedIso, fittedGreen, isoBCN, greenBCN, dFF, BC_start, BC_end, BL_start, BL_end, fitting, mouse)\n",
    "    \n",
    "    return dFF"
   ]
  },
  {
   "cell_type": "code",
   "execution_count": null,
   "id": "deadb87e-343f-4f3e-8f1b-416829ff399b",
   "metadata": {},
   "outputs": [],
   "source": [
    "def fig_func(time, iso, green, fittedIso, fittedGeen, isoBCN, greenBCN, dFF, BC_start, BC_end, BL_start, BL_end, fitting, mouse):\n",
    "    \n",
    "    plt.figure(figsize=(10, 1))\n",
    "    plt.subplots_adjust(wspace=0.4, hspace=0.4)\n",
    "    \n",
    "    plt.subplot(1, 3, 1)\n",
    "    plt.plot(time, iso, color=\"gray\")\n",
    "    plt.plot(time, green, color=\"black\")\n",
    "    \n",
    "    if fitting == 1:\n",
    "        plt.plot(time[BC_start:BC_end], green[BC_start:BC_end], color=\"red\")\n",
    "        plt.plot(time, fittedIso, color=\"blue\")\n",
    "        \n",
    "    if fitting == 1:\n",
    "        plt.plot(time, fittedGeen, color=\"blue\")\n",
    "    else:\n",
    "        plt.plot(time, fittedIso, color=\"blue\")\n",
    "        \n",
    "    plt.title('{}'.format(mouse))\n",
    "\n",
    "    plt.subplot(1, 3, 2)\n",
    "    plt.plot(time, isoBCN, color=\"gray\")\n",
    "    plt.plot(time, greenBCN, color=\"black\")\n",
    "\n",
    "    plt.subplot(1, 3, 3)\n",
    "    plt.plot(time, dFF)\n",
    "    plt.plot(time[BL_start:BL_end], dFF[BL_start:BL_end], color='red')"
   ]
  },
  {
   "cell_type": "markdown",
   "id": "72b7764b-b9b0-4daa-a959-b201ecdcfe89",
   "metadata": {},
   "source": [
    "# dF/F"
   ]
  },
  {
   "cell_type": "markdown",
   "id": "60003367-40b2-4a1e-bdec-69877b4c144e",
   "metadata": {},
   "source": [
    "## Habituation"
   ]
  },
  {
   "cell_type": "code",
   "execution_count": null,
   "id": "4f53f33f-75b3-4708-a585-3434853cf023",
   "metadata": {},
   "outputs": [],
   "source": [
    "time_18min = [float(_) for _ in np.array(FC.filter(like=('time'), axis=1))][10:-9]\n",
    "time_25min = [float(_) for _ in np.array(FR.filter(like=('time'), axis=1))][10:-9]"
   ]
  },
  {
   "cell_type": "code",
   "execution_count": null,
   "id": "b2ec4ccc-b67a-4a7e-a547-b5cc80c063e2",
   "metadata": {},
   "outputs": [],
   "source": [
    "mouse1_hab = np.array(hab.filter(['mouse1 iso', 'mouse1 green']))[10:-9]\n",
    "mouse2_hab = np.array(hab.filter(['mouse2 iso', 'mouse2 green']))[10:-9]\n",
    "mouse3_hab = np.array(hab.filter(['mouse3 iso', 'mouse3 green']))[10:-9]\n",
    "mouse4_hab = np.array(hab.filter(['mouse4 iso', 'mouse4 green']))[10:-9]\n",
    "mouse5_hab = np.array(hab.filter(['mouse5 iso', 'mouse5 green']))[10:-9]\n",
    "mouse6_hab = np.array(hab.filter(['mouse6 iso', 'mouse6 green']))[10:-9]"
   ]
  },
  {
   "cell_type": "code",
   "execution_count": null,
   "id": "4c0b371e-a532-4b07-ab80-daa6bb01e972",
   "metadata": {},
   "outputs": [],
   "source": [
    "mouse1_hab_dFF = dFF_func(time_25min, mouse1_hab[:,0], mouse1_hab[:,1], 0, 590, 0, 30, 0, \"mouse1\")\n",
    "mouse2_hab_dFF = dFF_func(time_25min, mouse2_hab[:,0], mouse2_hab[:,1], 0, 590, 0, 30, 0, \"mouse2\")\n",
    "mouse3_hab_dFF = dFF_func(time_25min, mouse3_hab[:,0], mouse3_hab[:,1], 0, 500, 0, 30, 1, \"mouse3\")\n",
    "mouse4_hab_dFF = dFF_func(time_25min, mouse4_hab[:,0], mouse4_hab[:,1], 0, 450, 0, 30, 1, \"mouse4\")\n",
    "mouse5_hab_dFF = dFF_func(time_25min, mouse5_hab[:,0], mouse5_hab[:,1], 0, 590, 0, 30, 0, \"mouse5\")\n",
    "mouse6_hab_dFF = dFF_func(time_25min, mouse6_hab[:,0], mouse6_hab[:,1], 0, 590, 0, 30, 1, \"mouse6\")"
   ]
  },
  {
   "cell_type": "code",
   "execution_count": null,
   "id": "20769432-891e-4385-b047-4452ec110c85",
   "metadata": {},
   "outputs": [],
   "source": [
    "hab_dFF = pd.DataFrame([mouse1_hab_dFF, mouse2_hab_dFF, mouse3_hab_dFF, mouse4_hab_dFF, mouse5_hab_dFF, mouse6_hab_dFF]).T\n",
    "hab_dFF.columns = [\"mouse1\", \"mouse2\", \"mouse3\", \"mouse4\",\"mouse5\", \"mouse6\"]\n",
    "hab_dFF.index = time_25min\n",
    "\n",
    "hab_dFF.to_excel('habituation_dFF.xlsx')"
   ]
  },
  {
   "cell_type": "markdown",
   "id": "751e6aed-5316-4774-9931-a5c2acab72d6",
   "metadata": {},
   "source": [
    "## Fear conditioning"
   ]
  },
  {
   "cell_type": "code",
   "execution_count": null,
   "id": "f2d3afb2-8605-470d-ae35-62151d82588b",
   "metadata": {},
   "outputs": [],
   "source": [
    "mouse1_FC = np.array(FC.filter(['mouse1 iso', 'mouse1 green']))[10:-9]\n",
    "mouse2_FC = np.array(FC.filter(['mouse2 iso', 'mouse2 green']))[10:-9]\n",
    "mouse3_FC = np.array(FC.filter(['mouse3 iso', 'mouse3 green']))[10:-9]\n",
    "mouse4_FC = np.array(FC.filter(['mouse4 iso', 'mouse4 green']))[10:-9]\n",
    "mouse5_FC = np.array(FC.filter(['mouse5 iso', 'mouse5 green']))[10:-9]\n",
    "mouse6_FC = np.array(FC.filter(['mouse6 iso', 'mouse6 green']))[10:-9]"
   ]
  },
  {
   "cell_type": "code",
   "execution_count": null,
   "id": "dfe969e8-1736-4785-b540-4e0d1fe84e73",
   "metadata": {},
   "outputs": [],
   "source": [
    "mouse1_FC_dFF = dFF_func(time_18min, mouse1_FC[:,0], mouse1_FC[:,1], 0, 590, 0, 30, 1, \"mouse1\")\n",
    "mouse2_FC_dFF = dFF_func(time_18min, mouse2_FC[:,0], mouse2_FC[:,1], 0, 590, 0, 30, 1, \"mouse2\")\n",
    "mouse3_FC_dFF = dFF_func(time_18min, mouse3_FC[:,0], mouse3_FC[:,1], 0, 590, 0, 30, 1, \"mouse3\")\n",
    "mouse4_FC_dFF = dFF_func(time_18min, mouse4_FC[:,0], mouse4_FC[:,1], 0, 500, 0, 30, 1, \"mouse4\")\n",
    "mouse5_FC_dFF = dFF_func(time_18min, mouse5_FC[:,0], mouse5_FC[:,1], 0, 590, 0, 30, 1, \"mouse5\")\n",
    "mouse6_FC_dFF = dFF_func(time_18min, mouse6_FC[:,0], mouse6_FC[:,1], 0, 590, 0, 30, 1, \"mouse6\")"
   ]
  },
  {
   "cell_type": "code",
   "execution_count": null,
   "id": "089d5680-938b-47c9-89bb-1d70d1282540",
   "metadata": {},
   "outputs": [],
   "source": [
    "FC_dFF = pd.DataFrame([mouse1_FC_dFF, mouse2_FC_dFF, mouse3_FC_dFF, mouse4_FC_dFF, mouse5_FC_dFF, mouse6_FC_dFF]).T\n",
    "FC_dFF.columns = [\"mouse1\", \"mouse2\", \"mouse3\", \"mouse4\",\"mouse5\", \"mouse6\"]\n",
    "FC_dFF.index = time_18min\n",
    "\n",
    "FC_dFF.to_excel('FC_dFF.xlsx')"
   ]
  },
  {
   "cell_type": "markdown",
   "id": "7e095632-02af-4d68-bae2-7ab506127c1e",
   "metadata": {},
   "source": [
    "## Fear recall"
   ]
  },
  {
   "cell_type": "code",
   "execution_count": null,
   "id": "b23efd75-8d18-4d32-aecc-6bd1befea69d",
   "metadata": {},
   "outputs": [],
   "source": [
    "mouse1_FR = np.array(FR.filter(['mouse1 iso', 'mouse1 green']))[10:-9]\n",
    "mouse2_FR = np.array(FR.filter(['mouse2 iso', 'mouse2 green']))[10:-9]\n",
    "mouse3_FR = np.array(FR.filter(['mouse3 iso', 'mouse3 green']))[10:-9]\n",
    "mouse4_FR = np.array(FR.filter(['mouse4 iso', 'mouse4 green']))[10:-9]\n",
    "mouse5_FR = np.array(FR.filter(['mouse5 iso', 'mouse5 green']))[10:-9]\n",
    "mouse6_FR = np.array(FR.filter(['mouse6 iso', 'mouse6 green']))[10:-9]"
   ]
  },
  {
   "cell_type": "code",
   "execution_count": null,
   "id": "0579cd25-81a9-4158-aa20-6e9fed6cb235",
   "metadata": {},
   "outputs": [],
   "source": [
    "mouse1_FR_dFF = dFF_func(time_25min, mouse1_FR[:,0], mouse1_FR[:,1], 0, 450, 0, 30, 1, \"mouse1\")\n",
    "mouse2_FR_dFF = dFF_func(time_25min, mouse2_FR[:,0], mouse2_FR[:,1], 0, 590, 0, 30, 0, \"mouse2\")\n",
    "mouse3_FR_dFF = dFF_func(time_25min, mouse3_FR[:,0], mouse3_FR[:,1], 200, 500, 0, 30, 1, \"mouse3\")\n",
    "mouse4_FR_dFF = dFF_func(time_25min, mouse4_FR[:,0], mouse4_FR[:,1], 0, 590, 0, 30, 0, \"mouse4\")\n",
    "mouse5_FR_dFF = dFF_func(time_25min, mouse5_FR[:,0], mouse5_FR[:,1], 0, 300, 0, 30, 1, \"mouse5\")\n",
    "mouse6_FR_dFF = dFF_func(time_25min, mouse6_FR[:,0], mouse6_FR[:,1], 0, 590, 200, 230, 0, \"mouse6\")"
   ]
  },
  {
   "cell_type": "code",
   "execution_count": null,
   "id": "d5eacd27-bc16-4620-af15-eedd325e1179",
   "metadata": {},
   "outputs": [],
   "source": [
    "FR_dFF = pd.DataFrame([mouse1_FR_dFF, mouse2_FR_dFF, mouse3_FR_dFF, mouse4_FR_dFF, mouse5_FR_dFF, mouse6_FR_dFF]).T\n",
    "FR_dFF.columns = [\"mouse1\", \"mouse2\", \"mouse3\", \"mouse4\",\"mouse5\", \"mouse6\"]\n",
    "FR_dFF.index = time_25min\n",
    "\n",
    "FR_dFF.to_excel('FR_dFF.xlsx')"
   ]
  },
  {
   "cell_type": "markdown",
   "id": "11d4a4a7-99cf-4f4d-8645-510b26da00e2",
   "metadata": {},
   "source": [
    "## Context B"
   ]
  },
  {
   "cell_type": "code",
   "execution_count": null,
   "id": "95e9e52d-b398-4d0d-9d82-57ba3d938880",
   "metadata": {},
   "outputs": [],
   "source": [
    "mouse1_contB = np.array(contB.filter(['mouse1 iso', 'mouse1 green']))[10:-9]\n",
    "mouse2_contB = np.array(contB.filter(['mouse2 iso', 'mouse2 green']))[10:-9]\n",
    "mouse3_contB = np.array(contB.filter(['mouse3 iso', 'mouse3 green']))[10:-9]\n",
    "mouse4_contB = np.array(contB.filter(['mouse4 iso', 'mouse4 green']))[10:-9]\n",
    "mouse5_contB = np.array(contB.filter(['mouse5 iso', 'mouse5 green']))[10:-9]\n",
    "mouse6_contB = np.array(contB.filter(['mouse6 iso', 'mouse6 green']))[10:-9]"
   ]
  },
  {
   "cell_type": "code",
   "execution_count": null,
   "id": "8b1033b9-d0eb-4bf4-b885-0aa2446a86f1",
   "metadata": {},
   "outputs": [],
   "source": [
    "mouse1_contB_dFF = dFF_func(time_25min, mouse1_contB[:,0], mouse1_contB[:,1], 0, 590, 0, 30, 1, \"mouse1\")\n",
    "mouse2_contB_dFF = dFF_func(time_25min, mouse2_contB[:,0], mouse2_contB[:,1], 0, 590, 0, 30, 1, \"mouse2\")\n",
    "mouse3_contB_dFF = dFF_func(time_25min, mouse3_contB[:,0], mouse3_contB[:,1], 0, 490, 0, 30, 1, \"mouse3\")\n",
    "mouse4_contB_dFF = dFF_func(time_25min, mouse4_contB[:,0], mouse4_contB[:,1], 0, 590, 0, 30, 1, \"mouse4\")\n",
    "mouse5_contB_dFF = dFF_func(time_25min, mouse5_contB[:,0], mouse5_contB[:,1], 0, 590, 0, 30, 1, \"mouse5\")\n",
    "mouse6_contB_dFF = dFF_func(time_25min, mouse6_contB[:,0], mouse6_contB[:,1], 0, 590, 0, 30, 1, \"mouse6\")"
   ]
  },
  {
   "cell_type": "code",
   "execution_count": null,
   "id": "12c27a79-5005-4c0a-9e0b-c729846f036b",
   "metadata": {},
   "outputs": [],
   "source": [
    "contB_dFF = pd.DataFrame([mouse1_contB_dFF, mouse2_contB_dFF, mouse3_contB_dFF, mouse4_contB_dFF, mouse5_contB_dFF, mouse6_contB_dFF]).T\n",
    "contB_dFF.columns = [\"mouse1\", \"mouse2\", \"mouse3\", \"mouse4\",\"mouse5\", \"mouse6\"]\n",
    "contB_dFF.index = time_25min\n",
    "\n",
    "contB_dFF.to_excel('contB_dFF.xlsx')"
   ]
  },
  {
   "cell_type": "markdown",
   "id": "6de0f1d2-aeb7-4e22-a836-2e7b31d7c47c",
   "metadata": {},
   "source": [
    "# Mean and SEM"
   ]
  },
  {
   "cell_type": "code",
   "execution_count": null,
   "id": "12c32bef-d1f8-4572-baeb-c5f9fa01b114",
   "metadata": {},
   "outputs": [],
   "source": [
    "hab = hab_dFF.filter([\"mouse1\", \"mouse2\", \"mouse3\", \"mouse4\",\"mouse5\", \"mouse6\"])\n",
    "FC = FC_dFF.filter([\"mouse1\", \"mouse2\", \"mouse3\", \"mouse4\",\"mouse5\", \"mouse6\"])\n",
    "FR = FR_dFF.filter([\"mouse1\", \"mouse2\", \"mouse3\", \"mouse4\",\"mouse5\", \"mouse6\"])\n",
    "contB = contB_dFF.filter([\"mouse1\", \"mouse2\", \"mouse3\", \"mouse4\",\"mouse5\", \"mouse6\"])"
   ]
  },
  {
   "cell_type": "code",
   "execution_count": null,
   "id": "ed21e659-dac0-4719-afb6-a498d2f4fdf1",
   "metadata": {},
   "outputs": [],
   "source": [
    "habMean = hab.mean(axis=1)\n",
    "FCMean = FC.mean(axis=1)\n",
    "FRMean = FR.mean(axis=1)\n",
    "contBMean = contB.mean(axis=1)\n",
    "\n",
    "habSEM = hab.std(axis=1, ddof=1) / np.sqrt(len(hab.columns))\n",
    "FCSEM = FC.std(axis=1, ddof=1) / np.sqrt(len(FC.columns))\n",
    "FRSEM = FR.std(axis=1, ddof=1) / np.sqrt(len(FR.columns))\n",
    "contBSEM = contB.std(axis=1, ddof=1) / np.sqrt(len(contB.columns))"
   ]
  },
  {
   "cell_type": "markdown",
   "id": "033a0625-e629-4096-9999-ceb4f21b7763",
   "metadata": {},
   "source": [
    "# AUC and decay"
   ]
  },
  {
   "cell_type": "markdown",
   "id": "0eccc830-05ce-4353-b5a2-6aef75591e96",
   "metadata": {},
   "source": [
    "## AUC"
   ]
  },
  {
   "cell_type": "code",
   "execution_count": null,
   "id": "c1307f3b-168e-4fb3-b3e7-67e0079201f0",
   "metadata": {},
   "outputs": [],
   "source": [
    "def auc_func(signalData, event_start_ind, event_end_ind):\n",
    "  '''\n",
    "  Calculate Area Under Curve\n",
    "  signal: data wanted to produce AUC\n",
    "  event_start_ind: start point (index)\n",
    "  event_end_ind: end point (index)\n",
    "  '''\n",
    "\n",
    "  aucDict = {}\n",
    "  for i in range(len(signalData.columns)):\n",
    "    signal = list(signalData.iloc[event_start_ind:event_end_ind,i])\n",
    "    time = signalData.iloc[event_start_ind:event_end_ind,i].index\n",
    "\n",
    "    auc = metrics.auc(time, signal)\n",
    "    aucDict[signalData.columns[i]] = auc\n",
    "\n",
    "  return aucDict"
   ]
  },
  {
   "cell_type": "code",
   "execution_count": null,
   "id": "bc60186a-c85f-438b-b468-5b2d3514dd22",
   "metadata": {},
   "outputs": [],
   "source": [
    "ind_0sec = idx_of_the_nearest(time_18min, 0)\n",
    "ind_1080sec = idx_of_the_nearest(time_18min, 1080)\n",
    "ind_1500sec = idx_of_the_nearest(time_25min, 1500)\n",
    "\n",
    "fast_start = idx_of_the_nearest(time_25min, 600)\n",
    "fast_end = idx_of_the_nearest(time_25min, 600+420)"
   ]
  },
  {
   "cell_type": "code",
   "execution_count": null,
   "id": "04614445-9587-4a7b-9c33-5135f2296ebd",
   "metadata": {},
   "outputs": [],
   "source": [
    "habAUC_1500sec = auc_func(hab, ind_0sec, ind_1500sec)\n",
    "FCAUC_1080sec = auc_func(FC, ind_0sec, ind_1080sec)\n",
    "FRAUC_1500sec = auc_func(FR, ind_0sec, ind_1500sec)\n",
    "contBAUC_1500sec = auc_func(contB, ind_0sec, ind_1500sec)\n",
    "\n",
    "FRfastAUC = auc_func(FR, fast_start, fast_end)\n",
    "FRlateAUC = auc_func(FR, fast_end, ind_1500sec)\n",
    "contBfastAUC = auc_func(contB, fast_start, fast_end)\n",
    "contBlateAUC = auc_func(contB, fast_end, ind_1500sec)\n",
    "\n",
    "AUC = pd.DataFrame([habAUC_1500sec, FCAUC_1080sec, FRAUC_1500sec, contBAUC_1500sec, FRfastAUC, FRlateAUC, contBfastAUC, contBlateAUC], \\\n",
    "                        index=[\"hab_1500sec\", \"FC_1080sec\", \"FR_1500sec\", \"contB_1500sec\", \"FR_fast\", \"FR_late\", \"contB_fast\", \"contB_late\"])"
   ]
  },
  {
   "cell_type": "markdown",
   "id": "719511fb-1475-403b-a4e9-e7d1e52abefb",
   "metadata": {},
   "source": [
    "## decay"
   ]
  },
  {
   "cell_type": "code",
   "execution_count": null,
   "id": "07339cc2-2b48-4b8f-9224-4cb4c50bb6ce",
   "metadata": {},
   "outputs": [],
   "source": [
    "decayTimeList = [_ * 0.05 for _ in range(11, 1000000)]"
   ]
  },
  {
   "cell_type": "code",
   "execution_count": null,
   "id": "d84deff8-bcf6-4c4c-b43e-f3b9cf3ba643",
   "metadata": {},
   "outputs": [],
   "source": [
    "def decay_func(data, start, end):\n",
    "    '''\n",
    "    Get decay\n",
    "    start: start point (index)\n",
    "    end: end point (index)\n",
    "    '''\n",
    "    \n",
    "  peakDict = {}\n",
    "  halfPeakDict = {}\n",
    "  decayDict = {}\n",
    "\n",
    "  for mouse in range(len(data.columns)):\n",
    "    dataAnalysis = np.array(data.iloc[start:end, mouse])\n",
    "    peakIndex = dataAnalysis.argmax()\n",
    "\n",
    "    peakData = dataAnalysis[peakIndex:]\n",
    "    peakFit = np.polyfit(decayTimeList[start:end][peakIndex:], peakData, 1)\n",
    "    fittedPeak = peakFit[0] * np.array(decayTimeList) + peakFit[1]\n",
    "\n",
    "    peakDict[data.columns[mouse]] = fittedPeak[start:end][peakIndex:][0]\n",
    "\n",
    "    halfPeak = []\n",
    "    c = 0\n",
    "    for i in fittedPeak[start:][peakIndex:]:\n",
    "      c += 1\n",
    "      if i <= fittedPeak[start:end][peakIndex] / 2:\n",
    "        halfPeak.append(i)\n",
    "        halfPeakDict[data.columns[mouse]] = halfPeak[0]\n",
    "        decayDict[data.columns[mouse]] = c*0.05\n",
    "        break\n",
    "    if len(halfPeak) == 0:\n",
    "      halfPeakDict[data.columns[mouse]] = None\n",
    "      peakDict[data.columns[mouse]] = None\n",
    "      decayDict[data.columns[mouse]] = None\n",
    "\n",
    "\n",
    "    #plt.figure(figsize=(2, 1))\n",
    "    #plt.title(data.columns[mouse])\n",
    "    #plt.plot(decayTimeList[start:end][peakIndex:], peakData, zorder=1)\n",
    "    #plt.plot(decayTimeList[start:][peakIndex:peakIndex+c], fittedPeak[start:][peakIndex:peakIndex+c], zorder=2)\n",
    "    #if len(halfPeak) == 0:\n",
    "    #  pass\n",
    "    #else:\n",
    "    #  plt.scatter(decayTimeList[start:end][peakIndex] + c*0.05, halfPeak,color=\"red\", zorder=3)\n",
    "\n",
    "  return peakDict, halfPeakDict, decayDict"
   ]
  },
  {
   "cell_type": "code",
   "execution_count": null,
   "id": "edf4f60b-5fc7-4326-8253-bbd3c879d035",
   "metadata": {},
   "outputs": [],
   "source": [
    "shock1_peak, shock1_half_peak, shock1_decay = decay_func(FC, shock1_start, shock1_end)\n",
    "shock2_peak, shock2_half_peak, shock2_decay = decay_func(FC, shock2_start, shock2_end)\n",
    "shock3_peak, shock3_half_peak, shock3_decay = decay_func(FC, shock3_start, shock3_end)"
   ]
  },
  {
   "cell_type": "code",
   "execution_count": null,
   "id": "8e25f1a3-3794-419a-87a8-0bed11c2b783",
   "metadata": {},
   "outputs": [],
   "source": [
    "ind_610sec = idx_of_the_nearest(time_25min, 610)"
   ]
  },
  {
   "cell_type": "code",
   "execution_count": null,
   "id": "039d6dfe-9a4d-40f8-b08a-4516cf95c245",
   "metadata": {},
   "outputs": [],
   "source": [
    "habPeak_1500sec, habHalfPeak_1500sec, habDecay_1500sec = decay_func(hab, ind_610sec, ind_1500sec)\n",
    "contBPeak_1500sec, contBHalfPeak_1500sec, contBDecay_1500sec = decay_func(contB, ind_610sec, ind_1500sec)\n",
    "FRPeak_1500sec, FRHalfPeak_1500sec, FRDecay_1500sec = decay_func(FR, ind_610sec, ind_1500sec)"
   ]
  },
  {
   "cell_type": "code",
   "execution_count": null,
   "id": "82a42160-6e9b-4cc3-909a-334fa0b6e437",
   "metadata": {},
   "outputs": [],
   "source": [
    "decay = pd.DataFrame([shock1_decay, shock2_decay, shock3_decay, habDecay_1500sec, FRDecay_1500sec, contBDecay_1500sec], \\\n",
    "                       index=[\"shock1\", \"shock2\", \"shock3\", \"hab_1500sec\", \"FR_1500sec\",\"contB_1500sec\"])"
   ]
  }
 ],
 "metadata": {
  "kernelspec": {
   "display_name": "Python 3 (ipykernel)",
   "language": "python",
   "name": "python3"
  },
  "language_info": {
   "codemirror_mode": {
    "name": "ipython",
    "version": 3
   },
   "file_extension": ".py",
   "mimetype": "text/x-python",
   "name": "python",
   "nbconvert_exporter": "python",
   "pygments_lexer": "ipython3",
   "version": "3.11.7"
  }
 },
 "nbformat": 4,
 "nbformat_minor": 5
}
