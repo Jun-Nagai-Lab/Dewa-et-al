{
 "cells": [
  {
   "cell_type": "code",
   "execution_count": null,
   "id": "e55c2f81-505a-4fe2-a6ef-fd615f75783c",
   "metadata": {},
   "outputs": [],
   "source": [
    "import numpy as np\n",
    "import pandas as pd\n",
    "import matplotlib.pyplot as plt\n",
    "import scipy.stats\n",
    "from sklearn import metrics\n",
    "import sklearn\n",
    "import matplotlib"
   ]
  },
  {
   "cell_type": "code",
   "execution_count": null,
   "id": "b00e9946-5729-49e8-8391-3ffa4ba24da2",
   "metadata": {},
   "outputs": [],
   "source": [
    "hab = pd.read_excel(path)\n",
    "FC = pd.read_excel(path)\n",
    "FR = pd.read_excel(path)\n",
    "contB = pd.read_excel(path)\n",
    "prop = pd.read_excel(path)"
   ]
  },
  {
   "cell_type": "code",
   "execution_count": null,
   "id": "b1cf8fc2-8e31-4381-a31a-3cccd37a93f7",
   "metadata": {},
   "outputs": [],
   "source": [
    "def idx_of_the_nearest(data, value):\n",
    "  '''\n",
    "  Get nearest index\n",
    "  value: Wanted timing\n",
    "  '''\n",
    "  idx = np.argmin(np.abs(np.array(data) - value))\n",
    "\n",
    "  return idx"
   ]
  },
  {
   "cell_type": "code",
   "execution_count": null,
   "id": "9023c2f8-e292-4563-94e3-bfd7828a57af",
   "metadata": {},
   "outputs": [],
   "source": [
    "def dFF_func(time, iso, green, BC_start_sec, BC_end_sec, BL_start_sec, BL_end_sec, fitting, mouse):\n",
    "    '''\n",
    "    Calculate dF/F\n",
    "    time: time list\n",
    "    iso: 405 data\n",
    "    green: 470 data\n",
    "    BC_start_sec: start time for fitting\n",
    "    BC_end_sec: end time for fitting\n",
    "    BL_start_sec: start time for baseline \n",
    "    BL_end_sec: end time for baseline\n",
    "    fitting: 1: use 470 signal for fitting, 0: use 405 signal for fitting\n",
    "    mouse: mouse number\n",
    "    '''\n",
    "    BC_start = idx_of_the_nearest(time_25min, BC_start_sec)\n",
    "    BC_end = idx_of_the_nearest(time_25min, BC_end_sec)\n",
    "    \n",
    "    BL_start = idx_of_the_nearest(time_25min, BL_start_sec)\n",
    "    BL_end = idx_of_the_nearest(time_25min, BL_end_sec)\n",
    "    \n",
    "    \n",
    "    add1 = [1 for i in range(len(green))]\n",
    "    \n",
    "    fit = np.polyfit(time, iso, 1)\n",
    "    fittedIso = fit[0] * np.array(time) + fit[1]\n",
    "    isoBC = iso - fittedIso\n",
    "    isoBCN = isoBC + add1\n",
    "    \n",
    "    fit = np.polyfit(time[BC_start:BC_end], green[BC_start:BC_end], 1)\n",
    "    fittedGreen = fit[0] * np.array(time) + fit[1]\n",
    "    \n",
    "    if fitting == 1:\n",
    "        greenBC = green - fittedGreen\n",
    "        greenBCN = greenBC + add1\n",
    "        \n",
    "    else:\n",
    "        greenBC = green - fittedIso\n",
    "        greenBCN = greenBC + add1\n",
    "        \n",
    "    BL_mean = np.mean(greenBCN[BL_start:BL_end] / isoBCN[BL_start:BL_end])\n",
    "    dFF = greenBCN / isoBCN - BL_mean\n",
    "    \n",
    "    fig_func(time, iso, green, fittedIso, fittedGreen, isoBCN, greenBCN, dFF, BC_start, BC_end, BL_start, BL_end, fitting, mouse)\n",
    "    \n",
    "    return dFF"
   ]
  },
  {
   "cell_type": "code",
   "execution_count": null,
   "id": "13d1da30-c8c7-4a58-b307-2df58a1a5ae0",
   "metadata": {},
   "outputs": [],
   "source": [
    "def fig_func(time, iso, green, fittedIso, fittedGeen, isoBCN, greenBCN, dFF, BC_start, BC_end, BL_start, BL_end, fitting, mouse):\n",
    "    \n",
    "    plt.figure(figsize=(7, 1))\n",
    "    plt.subplots_adjust(wspace=0.4, hspace=0.4)\n",
    "    \n",
    "    plt.subplot(1, 3, 1)\n",
    "    plt.plot(time, iso, color=\"gray\")\n",
    "    plt.plot(time, green, color=\"black\")\n",
    "    \n",
    "    if fitting == 1:\n",
    "        plt.plot(time[BC_start:BC_end], green[BC_start:BC_end], color=\"red\")\n",
    "        plt.plot(time, fittedIso, color=\"blue\")\n",
    "        \n",
    "    if fitting == 1:\n",
    "        plt.plot(time, fittedGeen, color=\"blue\")\n",
    "    else:\n",
    "        plt.plot(time, fittedIso, color=\"blue\")\n",
    "        \n",
    "    plt.title('{}'.format(mouse))\n",
    "\n",
    "    plt.subplot(1, 3, 2)\n",
    "    plt.plot(time, isoBCN, color=\"gray\")\n",
    "    plt.plot(time, greenBCN, color=\"black\")\n",
    "\n",
    "    plt.subplot(1, 3, 3)\n",
    "    plt.plot(time, dFF, color=\"green\")\n",
    "    plt.plot(time[BL_start:BL_end], dFF[BL_start:BL_end], color='red')"
   ]
  },
  {
   "cell_type": "markdown",
   "id": "8a4b5727-081a-4130-b378-47cc8dd0e686",
   "metadata": {
    "tags": []
   },
   "source": [
    "# cAMP"
   ]
  },
  {
   "cell_type": "markdown",
   "id": "8d2cb0d9-a664-40c1-a2a1-7f2067cf23bd",
   "metadata": {
    "tags": []
   },
   "source": [
    "## dF/F"
   ]
  },
  {
   "cell_type": "markdown",
   "id": "5fdc6133-2d46-447b-9e42-ff83495977b9",
   "metadata": {},
   "source": [
    "### Habituation"
   ]
  },
  {
   "cell_type": "code",
   "execution_count": null,
   "id": "9ca7b334-2cd0-4335-870b-c3d8658bf178",
   "metadata": {},
   "outputs": [],
   "source": [
    "time_18min = [float(_) for _ in np.array(FC.filter(like=('time'), axis=1))][10:-9]\n",
    "time_25min = [float(_) for _ in np.array(FR.filter(like=('time'), axis=1))][10:-9]"
   ]
  },
  {
   "cell_type": "code",
   "execution_count": null,
   "id": "7a7fd5ca-0304-4e9e-94a8-7ae270e1c809",
   "metadata": {},
   "outputs": [],
   "source": [
    "mouse1_cAMP_hab = np.array(hab.filter(['mouse1 iso', 'mouse1 green']))[10:-9]\n",
    "mouse2_cAMP_hab = np.array(hab.filter(['mouse2 iso', 'mouse2 green']))[10:-9]\n",
    "mouse3_cAMP_hab = np.array(hab.filter(['mouse3 iso', 'mouse3 green']))[10:-9]\n",
    "mouse4_cAMP_hab = np.array(hab.filter(['mouse4 iso', 'mouse4 green']))[10:-9]\n",
    "mouse5_cAMP_hab = np.array(hab.filter(['mouse5 iso', 'mouse5 green']))[10:-9]\n",
    "mouse6_cAMP_hab = np.array(hab.filter(['mouse6 iso', 'mouse6 green']))[10:-9]\n",
    "mouse7_cAMP_hab = np.array(hab.filter(['mouse7 iso', 'mouse7 green']))[10:-9]\n",
    "mouse8_cAMP_hab = np.array(hab.filter(['mouse8 iso', 'mouse8 green']))[10:-9]"
   ]
  },
  {
   "cell_type": "code",
   "execution_count": null,
   "id": "7e1424a9-4af5-48f1-bb06-878bb7c1686b",
   "metadata": {},
   "outputs": [],
   "source": [
    "mouse1_cAMP_hab_dFF = dFF_func(time_25min, mouse1_cAMP_hab[:,0], mouse1_cAMP_hab[:,1], 0, 250, 0, 99, 1, \"mouse1\")\n",
    "mouse2_cAMP_hab_dFF = dFF_func(time_25min, mouse2_cAMP_hab[:,0], mouse2_cAMP_hab[:,1], 0, 250, 0, 99, 1, \"mouse2\")\n",
    "mouse3_cAMP_hab_dFF = dFF_func(time_25min, mouse3_cAMP_hab[:,0], mouse3_cAMP_hab[:,1], 0, 250, 0, 99, 1, \"mouse3\")\n",
    "mouse4_cAMP_hab_dFF = dFF_func(time_25min, mouse4_cAMP_hab[:,0], mouse4_cAMP_hab[:,1], 0, 250, 0, 99, 1, \"mouse4\")\n",
    "mouse5_cAMP_hab_dFF = dFF_func(time_25min, mouse5_cAMP_hab[:,0], mouse5_cAMP_hab[:,1], 0, 250, 0, 99, 0, \"mouse5\")\n",
    "mouse6_cAMP_hab_dFF = dFF_func(time_25min, mouse6_cAMP_hab[:,0], mouse6_cAMP_hab[:,1], 0, 250, 0, 99, 1, \"mouse6\")\n",
    "mouse7_cAMP_hab_dFF = dFF_func(time_25min, mouse7_cAMP_hab[:,0], mouse7_cAMP_hab[:,1], 0, 250, 0, 99, 1, \"mouse7\")\n",
    "mouse8_cAMP_hab_dFF = dFF_func(time_25min, mouse8_cAMP_hab[:,0], mouse8_cAMP_hab[:,1], 0, 250, 0, 99, 0, \"mouse8\")"
   ]
  },
  {
   "cell_type": "code",
   "execution_count": null,
   "id": "f27a1a50-b984-4d23-94f0-4b099cb2ed7d",
   "metadata": {},
   "outputs": [],
   "source": [
    "cAMP_hab_dFF = pd.DataFrame([mouse1_cAMP_hab_dFF, mouse2_cAMP_hab_dFF, mouse3_cAMP_hab_dFF, mouse4_cAMP_hab_dFF, mouse5_cAMP_hab_dFF, mouse6_cAMP_hab_dFF, mouse7_cAMP_hab_dFF, mouse8_cAMP_hab_dFF]).T\n",
    "cAMP_hab_dFF.columns = [\"mouse1\", \"mouse2\", \"mouse3\", \"mouse4\", \"mouse5\", \"mouse6\", \"mouse7\", \"mouse8\"]\n",
    "cAMP_hab_dFF.index = time_25min\n",
    "\n",
    "cAMP_hab_dFF.to_excel('cAMP_hab_dFF.xlsx')"
   ]
  },
  {
   "cell_type": "markdown",
   "id": "033b4c6c-625a-4233-b07d-c52723d73152",
   "metadata": {},
   "source": [
    "### Fear conditioning"
   ]
  },
  {
   "cell_type": "code",
   "execution_count": null,
   "id": "2f117e4f-4d86-4c5c-8a7e-290d835baee3",
   "metadata": {},
   "outputs": [],
   "source": [
    "mouse1_cAMP_FC = np.array(FC.filter(['mouse1 iso', 'mouse1 green']))[10:-9]\n",
    "mouse2_cAMP_FC = np.array(FC.filter(['mouse2 iso', 'mouse2 green']))[10:-9]\n",
    "mouse3_cAMP_FC = np.array(FC.filter(['mouse3 iso', 'mouse3 green']))[10:-9]\n",
    "mouse4_cAMP_FC = np.array(FC.filter(['mouse4 iso', 'mouse4 green']))[10:-9]\n",
    "mouse5_cAMP_FC = np.array(FC.filter(['mouse5 iso', 'mouse5 green']))[10:-9]\n",
    "mouse6_cAMP_FC = np.array(FC.filter(['mouse6 iso', 'mouse6 green']))[10:-9]\n",
    "mouse7_cAMP_FC = np.array(FC.filter(['mouse7 iso', 'mouse7 green']))[10:-9]\n",
    "mouse8_cAMP_FC = np.array(FC.filter(['mouse8 iso', 'mouse8 green']))[10:-9]"
   ]
  },
  {
   "cell_type": "code",
   "execution_count": null,
   "id": "87aeb8d5-60a4-4fea-8bf3-68aa8bdaf9ff",
   "metadata": {},
   "outputs": [],
   "source": [
    "mouse1_cAMP_FC_dFF = dFF_func(time_18min, mouse1_cAMP_FC[:,0], mouse1_cAMP_FC[:,1], 0, 560, 0, 99, 1, \"mouse1\")\n",
    "mouse2_cAMP_FC_dFF = dFF_func(time_18min, mouse2_cAMP_FC[:,0], mouse2_cAMP_FC[:,1], 0, 590, 0, 99, 1, \"mouse2\")\n",
    "mouse3_cAMP_FC_dFF = dFF_func(time_18min, mouse3_cAMP_FC[:,0], mouse3_cAMP_FC[:,1], 0, 250, 0, 99, 1, \"mouse3\")\n",
    "mouse4_cAMP_FC_dFF = dFF_func(time_18min, mouse4_cAMP_FC[:,0], mouse4_cAMP_FC[:,1], 0, 250, 0, 99, 1, \"mouse4\")\n",
    "mouse5_cAMP_FC_dFF = dFF_func(time_18min, mouse5_cAMP_FC[:,0], mouse5_cAMP_FC[:,1], 0, 560, 0, 99, 1, \"mouse5\")\n",
    "mouse6_cAMP_FC_dFF = dFF_func(time_18min, mouse6_cAMP_FC[:,0], mouse6_cAMP_FC[:,1], 0, 500, 0, 99, 1, \"mouse6\")\n",
    "mouse7_cAMP_FC_dFF = dFF_func(time_18min, mouse7_cAMP_FC[:,0], mouse7_cAMP_FC[:,1], 0, 250, 0, 99, 1, \"mouse7\")\n",
    "mouse8_cAMP_FC_dFF = dFF_func(time_18min, mouse8_cAMP_FC[:,0], mouse8_cAMP_FC[:,1], 0, 250, 0, 99, 1, \"mouse8\")"
   ]
  },
  {
   "cell_type": "code",
   "execution_count": null,
   "id": "8195c736-1340-4c49-bcb7-83abcb8b14e1",
   "metadata": {},
   "outputs": [],
   "source": [
    "cAMP_FC_dFF = pd.DataFrame([mouse1_cAMP_FC_dFF, mouse2_cAMP_FC_dFF, mouse3_cAMP_FC_dFF, mouse4_cAMP_FC_dFF, mouse5_cAMP_FC_dFF, mouse6_cAMP_FC_dFF, mouse7_cAMP_FC_dFF, mouse8_cAMP_FC_dFF]).T\n",
    "cAMP_FC_dFF.columns = [\"mouse1\", \"mouse2\", \"mouse3\", \"mouse4\", \"mouse5\", \"mouse6\", \"mouse7\", \"mouse8\"]\n",
    "cAMP_FC_dFF.index = time_18min\n",
    "\n",
    "cAMP_FC_dFF.to_excel('cAMP_FC_dFF.xlsx')"
   ]
  },
  {
   "cell_type": "markdown",
   "id": "bfb49489-cb18-4ee9-8a95-b7b4e6e62cfb",
   "metadata": {},
   "source": [
    "### Fear recall"
   ]
  },
  {
   "cell_type": "code",
   "execution_count": null,
   "id": "993caabc-eb06-4596-a979-2c0c14cd6790",
   "metadata": {},
   "outputs": [],
   "source": [
    "mouse1_cAMP_FR = np.array(FR.filter(['mouse1 iso', 'mouse1 green']))[10:-9]\n",
    "mouse2_cAMP_FR = np.array(FR.filter(['mouse2 iso', 'mouse2 green']))[10:-9]\n",
    "mouse3_cAMP_FR = np.array(FR.filter(['mouse3 iso', 'mouse3 green']))[10:-9]\n",
    "mouse4_cAMP_FR = np.array(FR.filter(['mouse4 iso', 'mouse4 green']))[10:-9]\n",
    "mouse5_cAMP_FR = np.array(FR.filter(['mouse5 iso', 'mouse5 green']))[10:-9]\n",
    "mouse6_cAMP_FR = np.array(FR.filter(['mouse6 iso', 'mouse6 green']))[10:-9]\n",
    "mouse7_cAMP_FR = np.array(FR.filter(['mouse7 iso', 'mouse7 green']))[10:-9]\n",
    "mouse8_cAMP_FR = np.array(FR.filter(['mouse8 iso', 'mouse8 green']))[10:-9]"
   ]
  },
  {
   "cell_type": "code",
   "execution_count": null,
   "id": "8851ecb2-93b2-48da-b830-e4d2e333f483",
   "metadata": {},
   "outputs": [],
   "source": [
    "mouse1_cAMP_FR_dFF = dFF_func(time_25min, mouse1_cAMP_FR[:,0], mouse1_cAMP_FR[:,1], 0, 250, 0, 99, 1, \"mouse1\")\n",
    "mouse2_cAMP_FR_dFF = dFF_func(time_25min, mouse2_cAMP_FR[:,0], mouse2_cAMP_FR[:,1], 0, 250, 0, 99, 1, \"mouse2\")\n",
    "mouse3_cAMP_FR_dFF = dFF_func(time_25min, mouse3_cAMP_FR[:,0], mouse3_cAMP_FR[:,1], 0, 250, 0, 99, 1, \"mouse3\")\n",
    "mouse4_cAMP_FR_dFF = dFF_func(time_25min, mouse4_cAMP_FR[:,0], mouse4_cAMP_FR[:,1], 0, 250, 0, 99, 1, \"mouse4\")\n",
    "mouse5_cAMP_FR_dFF = dFF_func(time_25min, mouse5_cAMP_FR[:,0], mouse5_cAMP_FR[:,1], 0, 250, 0, 99, 0, \"mouse5\")\n",
    "mouse6_cAMP_FR_dFF = dFF_func(time_25min, mouse6_cAMP_FR[:,0], mouse6_cAMP_FR[:,1], 0, 250, 0, 99, 1, \"mouse6\")\n",
    "mouse7_cAMP_FR_dFF = dFF_func(time_25min, mouse7_cAMP_FR[:,0], mouse7_cAMP_FR[:,1], 0, 250, 0, 99, 1, \"mouse7\")\n",
    "mouse8_cAMP_FR_dFF = dFF_func(time_25min, mouse8_cAMP_FR[:,0], mouse8_cAMP_FR[:,1], 0, 250, 0, 99, 1, \"mouse8\")"
   ]
  },
  {
   "cell_type": "code",
   "execution_count": null,
   "id": "271d4464-fd12-41c9-b3c7-9090b76984a2",
   "metadata": {},
   "outputs": [],
   "source": [
    "cAMP_FR_dFF = pd.DataFrame([mouse1_cAMP_FR_dFF, mouse2_cAMP_FR_dFF, mouse3_cAMP_FR_dFF, mouse4_cAMP_FR_dFF, mouse5_cAMP_FR_dFF, mouse6_cAMP_FR_dFF, mouse7_cAMP_FR_dFF, mouse8_cAMP_FR_dFF]).T\n",
    "cAMP_FR_dFF.columns = [\"mouse1\", \"mouse2\", \"mouse3\", \"mouse4\", \"mouse5\", \"mouse6\", \"mouse7\", \"mouse8\"]\n",
    "cAMP_FR_dFF.index = time_25min\n",
    "\n",
    "cAMP_FR_dFF.to_excel('cAMP_FR_dFF.xlsx')"
   ]
  },
  {
   "cell_type": "markdown",
   "id": "c1de5859-42cb-4b3f-b965-fb980e36c4a1",
   "metadata": {},
   "source": [
    "### Context B"
   ]
  },
  {
   "cell_type": "code",
   "execution_count": null,
   "id": "6ab441f3-e507-46ad-aacc-13842a666c70",
   "metadata": {},
   "outputs": [],
   "source": [
    "mouse1_cAMP_contB = np.array(contB.filter(['mouse1 iso', 'mouse1 green']))[10:-9]\n",
    "mouse2_cAMP_contB = np.array(contB.filter(['mouse2 iso', 'mouse2 green']))[10:-9]\n",
    "mouse3_cAMP_contB = np.array(contB.filter(['mouse3 iso', 'mouse3 green']))[10:-9]\n",
    "mouse4_cAMP_contB = np.array(contB.filter(['mouse4 iso', 'mouse4 green']))[10:-9]\n",
    "mouse5_cAMP_contB = np.array(contB.filter(['mouse5 iso', 'mouse5 green']))[10:-9]\n",
    "mouse6_cAMP_contB = np.array(contB.filter(['mouse6 iso', 'mouse6 green']))[10:-9]\n",
    "mouse7_cAMP_contB = np.array(contB.filter(['mouse7 iso', 'mouse7 green']))[10:-9]\n",
    "mouse8_cAMP_contB = np.array(contB.filter(['mouse8 iso', 'mouse8 green']))[10:-9]"
   ]
  },
  {
   "cell_type": "code",
   "execution_count": null,
   "id": "b2b4ec13-0c90-44df-8aa9-5ae1b62ef165",
   "metadata": {},
   "outputs": [],
   "source": [
    "mouse1_cAMP_contB_dFF = dFF_func(time_25min, mouse1_cAMP_contB[:,0], mouse1_cAMP_contB[:,1], 0, 250, 0, 99, 1, \"mouse1\")\n",
    "mouse2_cAMP_contB_dFF = dFF_func(time_25min, mouse2_cAMP_contB[:,0], mouse2_cAMP_contB[:,1], 0, 250, 0, 99, 1, \"mouse2\")\n",
    "mouse3_cAMP_contB_dFF = dFF_func(time_25min, mouse3_cAMP_contB[:,0], mouse3_cAMP_contB[:,1], 0, 250, 0, 99, 1, \"mouse3\")\n",
    "mouse4_cAMP_contB_dFF = dFF_func(time_25min, mouse4_cAMP_contB[:,0], mouse4_cAMP_contB[:,1], 0, 250, 0, 99, 1, \"mouse4\")\n",
    "mouse5_cAMP_contB_dFF = dFF_func(time_25min, mouse5_cAMP_contB[:,0], mouse5_cAMP_contB[:,1], 0, 250, 0, 99, 1, \"mouse5\")\n",
    "mouse6_cAMP_contB_dFF = dFF_func(time_25min, mouse6_cAMP_contB[:,0], mouse6_cAMP_contB[:,1], 0, 250, 0, 99, 1, \"mouse6\")\n",
    "mouse7_cAMP_contB_dFF = dFF_func(time_25min, mouse7_cAMP_contB[:,0], mouse7_cAMP_contB[:,1], 0, 250, 0, 99, 1, \"mouse7\")\n",
    "mouse8_cAMP_contB_dFF = dFF_func(time_25min, mouse8_cAMP_contB[:,0], mouse8_cAMP_contB[:,1], 0, 250, 0, 99, 1, \"mouse8\")"
   ]
  },
  {
   "cell_type": "code",
   "execution_count": null,
   "id": "d5546f7f-a05d-4813-b3b6-14203a7f0b36",
   "metadata": {},
   "outputs": [],
   "source": [
    "cAMP_contB_dFF = pd.DataFrame([mouse1_cAMP_contB_dFF, mouse2_cAMP_contB_dFF, mouse3_cAMP_contB_dFF, mouse4_cAMP_contB_dFF, mouse5_cAMP_contB_dFF, mouse6_cAMP_contB_dFF, mouse7_cAMP_contB_dFF, mouse8_cAMP_contB_dFF]).T\n",
    "cAMP_contB_dFF.columns = [\"mouse1\", \"mouse2\", \"mouse3\", \"mouse4\", \"mouse5\", \"mouse6\", \"mouse7\", \"mouse8\"]\n",
    "cAMP_contB_dFF.index = time_25min\n",
    "\n",
    "cAMP_contB_dFF.to_excel('cAMP_contB_dFF.xlsx')"
   ]
  },
  {
   "cell_type": "markdown",
   "id": "76a4db88-d4ed-42ff-a83d-89c7b2a56245",
   "metadata": {},
   "source": [
    "### Prop"
   ]
  },
  {
   "cell_type": "code",
   "execution_count": null,
   "id": "003ee480-105d-45d8-9a12-70eca3f10663",
   "metadata": {},
   "outputs": [],
   "source": [
    "mouse1_cAMP_prop = np.array(prop.filter(['mouse1 iso', 'mouse1 green']))[10:-9]\n",
    "mouse2_cAMP_prop = np.array(prop.filter(['mouse2 iso', 'mouse2 green']))[10:-9]\n",
    "mouse5_cAMP_prop = np.array(prop.filter(['mouse5 iso', 'mouse5 green']))[10:-9]\n",
    "mouse6_cAMP_prop = np.array(prop.filter(['mouse6 iso', 'mouse6 green']))[10:-9]\n",
    "mouse8_cAMP_prop = np.array(prop.filter(['mouse8 iso', 'mouse8 green']))[10:-9]"
   ]
  },
  {
   "cell_type": "code",
   "execution_count": null,
   "id": "78cf2805-72d4-49b9-8708-ce19070bd2fb",
   "metadata": {},
   "outputs": [],
   "source": [
    "mouse1_cAMP_contB_dFF = dFF_func(time_25min, mouse1_cAMP_contB[:,0], mouse1_cAMP_contB[:,1], 0, 250, 0, 99, 1, \"mouse1\")\n",
    "mouse2_cAMP_contB_dFF = dFF_func(time_25min, mouse2_cAMP_contB[:,0], mouse2_cAMP_contB[:,1], 300, 599, 0, 99, 1, \"mouse2\")\n",
    "mouse5_cAMP_contB_dFF = dFF_func(time_25min, mouse5_cAMP_contB[:,0], mouse5_cAMP_contB[:,1], 0, 250, 0, 99, 1, \"mouse5\")\n",
    "mouse6_cAMP_contB_dFF = dFF_func(time_25min, mouse6_cAMP_contB[:,0], mouse6_cAMP_contB[:,1], 0, 250, 0, 99, 1, \"mouse6\")\n",
    "mouse8_cAMP_contB_dFF = dFF_func(time_25min, mouse8_cAMP_contB[:,0], mouse8_cAMP_contB[:,1], 0, 250, 0, 99, 1, \"mouse8\")"
   ]
  },
  {
   "cell_type": "code",
   "execution_count": null,
   "id": "f4a1a2aa-3e95-4591-a031-b43ad3d6b9ea",
   "metadata": {},
   "outputs": [],
   "source": [
    "cAMP_prop_dFF = pd.DataFrame([mouse1_cAMP_prop_dFF, mouse2_cAMP_prop_dFF, mouse5_cAMP_prop_dFF, mouse6_cAMP_prop_dFF, mouse8_cAMP_prop_dFF]).T\n",
    "cAMP_prop_dFF.columns = [\"mouse1\", \"mouse2\", \"mouse5\", \"mouse6\", \"mouse8\"]\n",
    "cAMP_prop_dFF.index = time_25min\n",
    "\n",
    "cAMP_prop_dFF.to_excel('cAMP_prop_dFF.xlsx')"
   ]
  },
  {
   "cell_type": "markdown",
   "id": "4e0956f4-ac19-46eb-befd-ad2e5c690ee8",
   "metadata": {},
   "source": [
    "## Mean and SEM"
   ]
  },
  {
   "cell_type": "code",
   "execution_count": null,
   "id": "29c7d683-22c5-4861-843a-c07db0c9bae1",
   "metadata": {},
   "outputs": [],
   "source": [
    "cAMP_hab_mean = cAMP_hab_dFF.mean(axis=1)\n",
    "cAMP_FC_mean = cAMP_FC_dFF.mean(axis=1)\n",
    "cAMP_FR_mean = cAMP_FR_dFF.mean(axis=1)\n",
    "cAMP_contB_mean = cAMP_contB_dFF.mean(axis=1)\n",
    "cAMP_prop_mean = cAMP_prop_dFF.mean(axis=1)\n",
    "\n",
    "\n",
    "cAMP_hab_SEM = cAMP_hab_dFF.std(axis=1, ddof=1) / np.sqrt(len(cAMP_hab_dFF.columns))\n",
    "cAMP_FC_SEM = cAMP_FC_dFF.std(axis=1, ddof=1) / np.sqrt(len(cAMP_FC_dFF.columns))\n",
    "cAMP_FR_SEM = cAMP_FR_dFF.std(axis=1, ddof=1) / np.sqrt(len(cAMP_FR_dFF.columns))\n",
    "cAMP_contB_SEM = cAMP_contB_dFF.std(axis=1, ddof=1) / np.sqrt(len(cAMP_contB_dFF.columns))\n",
    "cAMP_prop_SEM = cAMP_prop_dFF.std(axis=1, ddof=1) / np.sqrt(len(cAMP_prop_dFF.columns))"
   ]
  },
  {
   "cell_type": "markdown",
   "id": "68909ef5-9d7f-4c3e-8c3d-35f8cd851eab",
   "metadata": {},
   "source": [
    "## AUC"
   ]
  },
  {
   "cell_type": "code",
   "execution_count": null,
   "id": "1393b6b7-caec-4a9d-9606-8365ab14b0ad",
   "metadata": {},
   "outputs": [],
   "source": [
    "def auc_func(signalData, event_start_ind, event_end_ind):\n",
    "  '''\n",
    "  Calculate Area Under Curve\n",
    "  signal: data wanted to produce AUC\n",
    "  event_start_ind: start point (index)\n",
    "  event_end_ind: end point (index)\n",
    "  '''\n",
    "\n",
    "  aucDict = {}\n",
    "  for i in range(len(signalData.columns)):\n",
    "    signal = list(signalData.iloc[event_start_ind:event_end_ind,i])\n",
    "    time = signalData.iloc[event_start_ind:event_end_ind,i].index\n",
    "\n",
    "    auc = metrics.auc(time, signal)\n",
    "    aucDict[signalData.columns[i]] = auc\n",
    "\n",
    "  return aucDict"
   ]
  },
  {
   "cell_type": "code",
   "execution_count": null,
   "id": "ce74746d-0be6-46d1-8a0c-f80f3e7433df",
   "metadata": {},
   "outputs": [],
   "source": [
    "ind_0sec = idx_of_the_nearest(time_18min, 0)\n",
    "ind_1080sec = idx_of_the_nearest(time_18min, 1080)\n",
    "ind_1500sec = idx_of_the_nearest(time_25min, 1500)\n",
    "fast_start = idx_of_the_nearest(time_25min, 600)\n",
    "fast_end = idx_of_the_nearest(time_25min, 600+420)"
   ]
  },
  {
   "cell_type": "code",
   "execution_count": null,
   "id": "118b3980-5266-4ebe-a9c9-c5e3bdece1f6",
   "metadata": {},
   "outputs": [],
   "source": [
    "habAUC_1500sec = auc_func(cAMP_hab_dFF, ind_0sec, ind_1500sec)\n",
    "FCAUC_1080sec = auc_func(cAMP_FR_dFF, ind_0sec, ind_1080sec)\n",
    "FRAUC_1500sec = auc_func(cAMP_FR_dFF, ind_0sec, ind_1500sec)\n",
    "contBAUC_1500sec = auc_func(cAMP_contB_dFF, ind_0sec, ind_1500sec)\n",
    "propAUC_1500sec = auc_func(cAMP_prop_dFF, ind_0sec, ind_1500sec)\n",
    "\n",
    "FRfastAUC = auc_func(cAMP_FR_dFF, fast_start, fast_end)\n",
    "FRlateAUC = auc_func(cAMP_FR_dFF, fast_end, ind_1500sec)\n",
    "contBfastAUC = auc_func(cAMP_contB_dFF, fast_start, fast_end)\n",
    "contBlateAUC = auc_func(cAMP_contB_dFF, fast_end, ind_1500sec)\n",
    "\n",
    "AUC = pd.DataFrame([habAUC_1500sec, FCAUC_1080sec, FRAUC_1500sec, contBAUC_1500sec, propAUC_1500sec, FRfastAUC, FRlateAUC, contBfastAUC, contBlateAUC], \\\n",
    "                        index=[\"hab_1500sec\", \"FC_1080sec\", \"FR_1500sec\", \"contB_1500sec\", \"prop_1500sec\",\"FR_fast\", \"FR_late\", \"contB_fast\", \"contB_late\"])"
   ]
  },
  {
   "cell_type": "markdown",
   "id": "a917f45f-8271-4601-918a-ad426b0d820e",
   "metadata": {},
   "source": [
    "## Fig"
   ]
  },
  {
   "cell_type": "code",
   "execution_count": null,
   "id": "91651f38-0903-43e3-a711-79f70af80051",
   "metadata": {},
   "outputs": [],
   "source": [
    "Fig_start = idx_of_the_nearest(time_18min, 0)\n",
    "Fig_end = idx_of_the_nearest(time_18min, 1079.55)"
   ]
  },
  {
   "cell_type": "code",
   "execution_count": null,
   "id": "3f72c629-9a86-4e35-9382-55eacba5ca0e",
   "metadata": {},
   "outputs": [],
   "source": [
    "plt.figure(figsize=(2.5,2))\n",
    "plt.axvline(x=600, color='black', linestyle=\"--\", linewidth=0.7, zorder=1)\n",
    "\n",
    "\n",
    "plt.fill_between(cAMP_hab_dFF.index[Fig_start:], cAMP_hab_mean.iloc[Fig_start:] - cAMP_hab_SEM.iloc[Fig_start:], \\\n",
    "                 cAMP_hab_mean.iloc[Fig_start:] + cAMP_hab_SEM.iloc[Fig_start:], facecolor='black', lw = 0, alpha=0.3, zorder=2)\n",
    "plt.plot(cAMP_hab_mean.iloc[Fig_start:], lw = 0.5, color=\"black\")\n",
    "\n",
    "plt.ylim(-0.025, 0.12)\n",
    "plt.yticks([0, 0.04, 0.08, 0.12])\n",
    "plt.xticks([120, 360, 600, 840, 1080, 1320])\n",
    "\n",
    "plt.gca().spines['right'].set_visible(False)\n",
    "plt.gca().spines['top'].set_visible(False)\n",
    "plt.gca().spines['left'].set_visible(False)\n",
    "plt.gca().spines[\"bottom\"].set_linewidth(1.5)\n",
    "plt.tick_params(length=3.5, width=1.5)\n",
    "plt.tick_params(labelbottom=False, labelleft=False)\n",
    "plt.tick_params(left=False, right=False, top=False)\n",
    "\n",
    "#plt.savefig(\"cAMP_hab.png\", format=\"png\", dpi=300, transparent=True)\n",
    "\n",
    "plt.show()"
   ]
  },
  {
   "cell_type": "code",
   "execution_count": null,
   "id": "656f981b-a2ec-4e26-a212-68734bca8da9",
   "metadata": {},
   "outputs": [],
   "source": [
    "plt.figure(figsize=(2.5,2))\n",
    "plt.axvline(x=600, color='black', linestyle=\"--\", linewidth=0.7, zorder=1)\n",
    "\n",
    "plt.fill_between(cAMP_FC_dFF.index[Fig_start:Fig_end], cAMP_FC_mean.iloc[Fig_start:Fig_end] - cAMP_FC_SEM.iloc[Fig_start:Fig_end], \\\n",
    "                 cAMP_FC_mean.iloc[Fig_start:Fig_end] + cAMP_FC_SEM.iloc[Fig_start:Fig_end], facecolor='black', lw = 0, alpha=0.3, zorder=2)\n",
    "plt.plot(cAMP_FC_mean.iloc[Fig_start:Fig_end], lw = 0.5, color=\"black\")\n",
    "plt.plot(cAMP_hab_mean.iloc[Fig_start:], lw = 0.5, color=\"black\", alpha=0)\n",
    "\n",
    "plt.ylim(-0.025, 0.12)\n",
    "plt.yticks([0, 0.04, 0.08, 0.12])\n",
    "plt.xticks([120, 360, 600, 840, 1080])\n",
    "\n",
    "plt.gca().spines['right'].set_visible(False)\n",
    "plt.gca().spines['top'].set_visible(False)\n",
    "plt.gca().spines['left'].set_visible(False)\n",
    "plt.gca().spines[\"bottom\"].set_linewidth(1.5)\n",
    "plt.tick_params(length=3.5, width=1.5)\n",
    "plt.tick_params(labelbottom=False, labelleft=False)\n",
    "plt.tick_params(left=False, right=False, top=False)\n",
    "\n",
    "#plt.savefig(\"cAMP_FC.png\", format=\"png\", dpi=300, transparent=True)\n",
    "\n",
    "plt.show()"
   ]
  },
  {
   "cell_type": "code",
   "execution_count": null,
   "id": "2f4e2a59-e5c1-4185-bd7e-3f8707701b6d",
   "metadata": {},
   "outputs": [],
   "source": [
    "plt.figure(figsize=(2.5,2))\n",
    "plt.axvline(x=600, color='black', linestyle=\"--\", linewidth=0.7, zorder=1)\n",
    "\n",
    "plt.fill_between(cAMP_FR_dFF.index[Fig_start:], cAMP_FR_mean.iloc[Fig_start:] - cAMP_FR_SEM.iloc[Fig_start:], \\\n",
    "                 cAMP_FR_mean.iloc[Fig_start:] + cAMP_FR_SEM.iloc[Fig_start:], facecolor='black', lw = 0, alpha=0.3, zorder=2)\n",
    "plt.plot(cAMP_FR_mean.iloc[Fig_start:], lw = 0.5, color=\"black\")\n",
    "\n",
    "plt.ylim(-0.025, 0.12)\n",
    "plt.yticks([0, 0.04, 0.08, 0.12])\n",
    "plt.xticks([120, 360, 600, 840, 1080, 1320])\n",
    "\n",
    "plt.gca().spines['right'].set_visible(False)\n",
    "plt.gca().spines['top'].set_visible(False)\n",
    "plt.gca().spines['left'].set_visible(False)\n",
    "plt.gca().spines[\"bottom\"].set_linewidth(1.5)\n",
    "plt.tick_params(length=3.5, width=1.5)\n",
    "plt.tick_params(labelbottom=False, labelleft=False)\n",
    "plt.tick_params(left=False, right=False, top=False)\n",
    "\n",
    "#plt.savefig(\"cAMP_FR.png\", format=\"png\", dpi=300, transparent=True)\n",
    "\n",
    "plt.show()"
   ]
  },
  {
   "cell_type": "code",
   "execution_count": null,
   "id": "5a90d249-2dba-4d36-8fa3-58af6b3d02de",
   "metadata": {},
   "outputs": [],
   "source": [
    "plt.figure(figsize=(2.5,2))\n",
    "plt.axvline(x=600, color='black', linestyle=\"--\", linewidth=0.7, zorder=1)\n",
    "\n",
    "\n",
    "plt.fill_between(cAMP_contB_dFF.index[Fig_start:], cAMP_contB_mean.iloc[Fig_start:] - cAMP_contB_SEM.iloc[Fig_start:], \\\n",
    "                 cAMP_contB_mean.iloc[Fig_start:] + cAMP_contB_SEM.iloc[Fig_start:], facecolor='black', lw = 0, alpha=0.3, zorder=2)\n",
    "plt.plot(cAMP_contB_mean.iloc[Fig_start:], lw = 0.5, color=\"black\")\n",
    "\n",
    "plt.ylim(-0.025, 0.12)\n",
    "plt.yticks([0, 0.04, 0.08, 0.12])\n",
    "plt.xticks([120, 360, 600, 840, 1080, 1320])\n",
    "\n",
    "plt.gca().spines['right'].set_visible(False)\n",
    "plt.gca().spines['top'].set_visible(False)\n",
    "plt.gca().spines['left'].set_visible(False)\n",
    "plt.gca().spines[\"bottom\"].set_linewidth(1.5)\n",
    "plt.tick_params(length=3.5, width=1.5)\n",
    "plt.tick_params(labelbottom=False, labelleft=False)\n",
    "plt.tick_params(left=False, right=False, top=False)\n",
    "\n",
    "#plt.savefig(\"cAMP_contB.png\", format=\"png\", dpi=300, transparent=True)\n",
    "\n",
    "plt.show()"
   ]
  },
  {
   "cell_type": "code",
   "execution_count": null,
   "id": "64bcbca8-3151-4d4a-a722-cba3849878de",
   "metadata": {},
   "outputs": [],
   "source": [
    "plt.figure(figsize=(2.5,2))\n",
    "plt.axvline(x=600, color='black', linestyle=\"--\", linewidth=0.7, zorder=1)\n",
    "\n",
    "plt.fill_between(cAMP_prop_dFF.index[Fig_start:], cAMP_prop_mean.iloc[Fig_start:] - cAMP_prop_SEM.iloc[Fig_start:],\\\n",
    "                 cAMP_prop_mean.iloc[Fig_start:] + cAMP_prop_SEM.iloc[Fig_start:], facecolor='black', lw = 0, alpha=0.3, zorder=2)\n",
    "plt.plot(cAMP_prop_mean.iloc[Fig_start:], lw = 0.5, color=\"black\")\n",
    "\n",
    "plt.ylim(-0.025, 0.12)\n",
    "plt.yticks([0, 0.04, 0.08, 0.12])\n",
    "plt.xticks([120, 360, 600, 840, 1080, 1320])\n",
    "\n",
    "plt.gca().spines['right'].set_visible(False)\n",
    "plt.gca().spines['top'].set_visible(False)\n",
    "plt.gca().spines['left'].set_visible(False)\n",
    "plt.gca().spines[\"bottom\"].set_linewidth(1.5)\n",
    "plt.tick_params(length=3.5, width=1.5)\n",
    "plt.tick_params(labelbottom=False, labelleft=False)\n",
    "plt.tick_params(left=False, right=False, top=False)\n",
    "\n",
    "#plt.savefig(\"cAMP_prop.png\", format=\"png\", dpi=300, transparent=True)\n",
    "\n",
    "plt.show()"
   ]
  },
  {
   "cell_type": "markdown",
   "id": "aee45a8c-2228-412e-a713-c047c23d27a6",
   "metadata": {},
   "source": [
    "# astrocyte Ca"
   ]
  },
  {
   "cell_type": "markdown",
   "id": "bec6c236-f72a-4811-81b6-ff3fa3870251",
   "metadata": {},
   "source": [
    "## dF/F"
   ]
  },
  {
   "cell_type": "markdown",
   "id": "f62291b4-f881-4e7e-a3c8-343d84d4648c",
   "metadata": {},
   "source": [
    "### habituation"
   ]
  },
  {
   "cell_type": "code",
   "execution_count": null,
   "id": "a0188f0d-3e42-4305-8987-b0dd937ec526",
   "metadata": {},
   "outputs": [],
   "source": [
    "mouse1_ca_hab = np.array(hab.filter(['mouse1 iso', 'mouse1 red']))[10:-9]\n",
    "mouse2_ca_hab = np.array(hab.filter(['mouse2 iso', 'mouse2 red']))[10:-9]\n",
    "mouse3_ca_hab = np.array(hab.filter(['mouse3 iso', 'mouse3 red']))[10:-9]\n",
    "mouse4_ca_hab = np.array(hab.filter(['mouse4 iso', 'mouse4 red']))[10:-9]\n",
    "mouse5_ca_hab = np.array(hab.filter(['mouse5 iso', 'mouse5 red']))[10:-9]\n",
    "mouse6_ca_hab = np.array(hab.filter(['mouse6 iso', 'mouse6 red']))[10:-9]\n",
    "mouse7_ca_hab = np.array(hab.filter(['mouse7 iso', 'mouse7 red']))[10:-9]"
   ]
  },
  {
   "cell_type": "code",
   "execution_count": null,
   "id": "0c4ccd5e-468a-4271-afda-d54f30b41472",
   "metadata": {},
   "outputs": [],
   "source": [
    "mouse1_ca_hab_dFF = dFF_func(time_25min, mouse1_ca_hab[:,0], mouse1_ca_hab[:,1], 0, 250, 0, 99, 1, \"mouse1\")\n",
    "mouse2_ca_hab_dFF = dFF_func(time_25min, mouse2_ca_hab[:,0], mouse2_ca_hab[:,1], 0, 250, 500, 599, 1, \"mouse2\")\n",
    "mouse3_ca_hab_dFF = dFF_func(time_25min, mouse3_ca_hab[:,0], mouse3_ca_hab[:,1], 0, 250, 0, 99, 1, \"mouse3\")\n",
    "mouse4_ca_hab_dFF = dFF_func(time_25min, mouse4_ca_hab[:,0], mouse4_ca_hab[:,1], 0, 250, 500, 599, 1, \"mouse4\")\n",
    "mouse5_ca_hab_dFF = dFF_func(time_25min, mouse5_ca_hab[:,0], mouse5_ca_hab[:,1], 0, 250, 490, 590, 0, \"mouse5\")\n",
    "mouse6_ca_hab_dFF = dFF_func(time_25min, mouse6_ca_hab[:,0], mouse6_ca_hab[:,1], 0, 250, 0, 99, 0, \"mouse6\")\n",
    "mouse7_ca_hab_dFF = dFF_func(time_25min, mouse7_ca_hab[:,0], mouse7_ca_hab[:,1], 250, 500, 0, 99, 0, \"mouse7\")"
   ]
  },
  {
   "cell_type": "code",
   "execution_count": null,
   "id": "691cff4d-78a5-4e10-9c8c-dc1e2b01f890",
   "metadata": {},
   "outputs": [],
   "source": [
    "ca_hab_dFF = pd.DataFrame([mouse1_ca_hab_dFF, mouse2_ca_hab_dFF, mouse3_ca_hab_dFF, mouse4_ca_hab_dFF, mouse5_ca_hab_dFF, mouse6_ca_hab_dFF, mouse7_ca_hab_dFF]).T\n",
    "ca_hab_dFF.columns = [\"mouse1\", \"mouse2\", \"mouse3\", \"mouse4\", \"mouse5\", \"mouse6\", \"mouse7\"]\n",
    "ca_hab_dFF.index = time_25min"
   ]
  },
  {
   "cell_type": "markdown",
   "id": "626f3c2c-d3b2-461b-b82a-532d17215512",
   "metadata": {},
   "source": [
    "### Fear conditioning"
   ]
  },
  {
   "cell_type": "code",
   "execution_count": null,
   "id": "a7300b9f-97dc-4fb2-baad-5b56cab71d7f",
   "metadata": {},
   "outputs": [],
   "source": [
    "mouse1_ca_FC = np.array(FC.filter(['mouse1 iso', 'mouse1 red']))[10:-9]\n",
    "mouse2_ca_FC = np.array(FC.filter(['mouse2 iso', 'mouse2 red']))[10:-9]\n",
    "mouse3_ca_FC = np.array(FC.filter(['mouse3 iso', 'mouse3 red']))[10:-9]\n",
    "mouse4_ca_FC = np.array(FC.filter(['mouse4 iso', 'mouse4 red']))[10:-9]\n",
    "mouse5_ca_FC = np.array(FC.filter(['mouse5 iso', 'mouse5 red']))[10:-9]\n",
    "mouse6_ca_FC = np.array(FC.filter(['mouse6 iso', 'mouse6 red']))[10:-9]\n",
    "mouse7_ca_FC = np.array(FC.filter(['mouse7 iso', 'mouse7 red']))[10:-9]"
   ]
  },
  {
   "cell_type": "code",
   "execution_count": null,
   "id": "1ed881d6-bbde-4a51-91d8-90d591ee1d48",
   "metadata": {},
   "outputs": [],
   "source": [
    "mouse1_ca_FC_dFF = dFF_func(time_18min, mouse1_ca_FC[:,0], mouse1_ca_FC[:,1], 0, 560, 0, 99, 1, \"mouse1\")\n",
    "mouse2_ca_FC_dFF = dFF_func(time_18min, mouse2_ca_FC[:,0], mouse2_ca_FC[:,1], 0, 590, 0, 99, 1, \"mouse2\")\n",
    "mouse3_ca_FC_dFF = dFF_func(time_18min, mouse3_ca_FC[:,0], mouse3_ca_FC[:,1], 0, 250, 0, 99, 1, \"mouse3\")\n",
    "mouse4_ca_FC_dFF = dFF_func(time_18min, mouse4_ca_FC[:,0], mouse4_ca_FC[:,1], 0, 250, 0, 99, 1, \"mouse4\")\n",
    "mouse5_ca_FC_dFF = dFF_func(time_18min, mouse5_ca_FC[:,0], mouse5_ca_FC[:,1], 0, 560, 0, 99, 1, \"mouse5\")\n",
    "mouse6_ca_FC_dFF = dFF_func(time_18min, mouse6_ca_FC[:,0], mouse6_ca_FC[:,1], 0, 250, 0, 99, 1, \"mouse6\")\n",
    "mouse7_ca_FC_dFF = dFF_func(time_18min, mouse7_ca_FC[:,0], mouse7_ca_FC[:,1], 0, 250, 0, 99, 1, \"mouse7\")"
   ]
  },
  {
   "cell_type": "code",
   "execution_count": null,
   "id": "5f3e0733-bf46-4d8b-861b-cf3befd2ebbd",
   "metadata": {},
   "outputs": [],
   "source": [
    "ca_FC_dFF = pd.DataFrame([mouse1_ca_FC_dFF, mouse2_ca_FC_dFF, mouse3_ca_FC_dFF, mouse4_ca_FC_dFF, mouse5_ca_FC_dFF, mouse6_ca_FC_dFF, mouse7_ca_FC_dFF]).T\n",
    "ca_FC_dFF.columns = [\"mouse1\", \"mouse2\", \"mouse3\", \"mouse4\", \"mouse5\", \"mouse6\", \"mouse7\"]\n",
    "ca_FC_dFF.index = time_18min"
   ]
  },
  {
   "cell_type": "markdown",
   "id": "e3e26c3d-a3f8-44d1-bae9-eb5e384db2cb",
   "metadata": {},
   "source": [
    "### Fear recall"
   ]
  },
  {
   "cell_type": "code",
   "execution_count": null,
   "id": "30c9b2f2-559a-432b-b1aa-63052425e68e",
   "metadata": {},
   "outputs": [],
   "source": [
    "mouse1_ca_FR = np.array(FR.filter(['mouse1 iso', 'mouse1 red']))[10:-9]\n",
    "mouse2_ca_FR = np.array(FR.filter(['mouse2 iso', 'mouse2 red']))[10:-9]\n",
    "mouse3_ca_FR = np.array(FR.filter(['mouse3 iso', 'mouse3 red']))[10:-9]\n",
    "mouse4_ca_FR = np.array(FR.filter(['mouse4 iso', 'mouse4 red']))[10:-9]\n",
    "mouse5_ca_FR = np.array(FR.filter(['mouse5 iso', 'mouse5 red']))[10:-9]\n",
    "mouse6_ca_FR = np.array(FR.filter(['mouse6 iso', 'mouse6 red']))[10:-9]\n",
    "mouse7_ca_FR = np.array(FR.filter(['mouse7 iso', 'mouse7 red']))[10:-9]"
   ]
  },
  {
   "cell_type": "code",
   "execution_count": null,
   "id": "055b873f-71d9-4d3c-a990-4fea57799a5e",
   "metadata": {},
   "outputs": [],
   "source": [
    "mouse1_ca_FR_dFF = dFF_func(time_25min, mouse1_ca_FR[:,0], mouse1_ca_FR[:,1], 0, 250, 450, 550, 1, \"mouse1\")\n",
    "mouse2_ca_FR_dFF = dFF_func(time_25min, mouse2_ca_FR[:,0], mouse2_ca_FR[:,1], 0, 250, 0, 99, 1, \"mouse2\")\n",
    "mouse3_ca_FR_dFF = dFF_func(time_25min, mouse3_ca_FR[:,0], mouse3_ca_FR[:,1], 0, 250, 400, 500, 1, \"mouse3\")\n",
    "mouse4_ca_FR_dFF = dFF_func(time_25min, mouse4_ca_FR[:,0], mouse4_ca_FR[:,1], 100, 600, 450, 550, 1, \"mouse4\")\n",
    "mouse5_ca_FR_dFF = dFF_func(time_25min, mouse5_ca_FR[:,0], mouse5_ca_FR[:,1], 0, 250, 300, 400, 1, \"mouse5\")\n",
    "mouse6_ca_FR_dFF = dFF_func(time_25min, mouse6_ca_FR[:,0], mouse6_ca_FR[:,1], 0, 250, 450, 550, 1, \"mouse6\")\n",
    "mouse7_ca_FR_dFF = dFF_func(time_25min, mouse7_ca_FR[:,0], mouse7_ca_FR[:,1], 0, 250, 400, 500, 1, \"mouse7\")"
   ]
  },
  {
   "cell_type": "code",
   "execution_count": null,
   "id": "573262ed-5ae8-4fd7-ac48-b08167359139",
   "metadata": {},
   "outputs": [],
   "source": [
    "ca_FR_dFF = pd.DataFrame([mouse1_ca_FR_dFF, mouse2_ca_FR_dFF, mouse3_ca_FR_dFF, mouse4_ca_FR_dFF, mouse5_ca_FR_dFF, mouse6_ca_FR_dFF, mouse7_ca_FR_dFF]).T\n",
    "ca_FR_dFF.columns = [\"mouse1\", \"mouse2\", \"mouse3\", \"mouse4\", \"mouse5\", \"mouse6\", \"mouse7\"]\n",
    "ca_FR_dFF.index = time_25min"
   ]
  },
  {
   "cell_type": "markdown",
   "id": "084c6c3b-1d87-4f93-b68a-02326ac4cc8d",
   "metadata": {},
   "source": [
    "### Contex B"
   ]
  },
  {
   "cell_type": "code",
   "execution_count": null,
   "id": "f4fd6020-e8c4-46ec-9392-9f178e14d43c",
   "metadata": {},
   "outputs": [],
   "source": [
    "mouse1_ca_contB = np.array(contB.filter(['mouse1 iso', 'mouse1 red']))[10:-9]\n",
    "mouse2_ca_contB = np.array(contB.filter(['mouse2 iso', 'mouse2 red']))[10:-9]\n",
    "mouse3_ca_contB = np.array(contB.filter(['mouse3 iso', 'mouse3 red']))[10:-9]\n",
    "mouse4_ca_contB = np.array(contB.filter(['mouse4 iso', 'mouse4 red']))[10:-9]\n",
    "mouse5_ca_contB = np.array(contB.filter(['mouse5 iso', 'mouse5 red']))[10:-9]\n",
    "mouse6_ca_contB = np.array(contB.filter(['mouse6 iso', 'mouse6 red']))[10:-9]\n",
    "mouse7_ca_contB = np.array(contB.filter(['mouse7 iso', 'mouse7 red']))[10:-9]"
   ]
  },
  {
   "cell_type": "code",
   "execution_count": null,
   "id": "fa97d986-d77b-4919-9a81-23f054452f2f",
   "metadata": {},
   "outputs": [],
   "source": [
    "mouse1_ca_contB_dFF = dFF_func(time_25min, mouse1_ca_contB[:,0], mouse1_ca_contB[:,1], 0, 250, 500, 600, 1, \"mouse1\")\n",
    "mouse2_ca_contB_dFF = dFF_func(time_25min, mouse2_ca_contB[:,0], mouse2_ca_contB[:,1], 0, 250, 0, 99, 1, \"mouse2\")\n",
    "mouse3_ca_contB_dFF = dFF_func(time_25min, mouse3_ca_contB[:,0], mouse3_ca_contB[:,1], 0, 250, 0, 99, 1, \"mouse3\")\n",
    "mouse4_ca_contB_dFF = dFF_func(time_25min, mouse4_ca_contB[:,0], mouse4_ca_contB[:,1], 0, 250, 0, 99, 1, \"mouse4\")\n",
    "mouse5_ca_contB_dFF = dFF_func(time_25min, mouse5_ca_contB[:,0], mouse5_ca_contB[:,1], 0, 1500, 0, 99, 1, \"mouse5\")\n",
    "mouse6_ca_contB_dFF = dFF_func(time_25min, mouse6_ca_contB[:,0], mouse6_ca_contB[:,1], 0, 250, 0, 99, 1, \"mouse6\")\n",
    "mouse7_ca_contB_dFF = dFF_func(time_25min, mouse7_ca_contB[:,0], mouse7_ca_contB[:,1], 0, 250, 0, 99, 1, \"mouse7\")"
   ]
  },
  {
   "cell_type": "code",
   "execution_count": null,
   "id": "38ba829e-f534-4e15-be7e-ae80b2b793d6",
   "metadata": {},
   "outputs": [],
   "source": [
    "ca_contB_dFF = pd.DataFrame([mouse1_ca_contB_dFF, mouse2_ca_contB_dFF, mouse3_ca_contB_dFF, mouse4_ca_contB_dFF, mouse5_ca_contB_dFF, mouse6_ca_contB_dFF, mouse7_ca_contB_dFF]).T\n",
    "ca_contB_dFF.columns = [\"mouse1\", \"mouse2\", \"mouse3\", \"mouse4\", \"mouse5\", \"mouse6\", \"mouse7\"]\n",
    "ca_contB_dFF.index = time_25min"
   ]
  },
  {
   "cell_type": "markdown",
   "id": "ac5bb80d-f1f3-4ef5-bcbc-ac410b63b2b3",
   "metadata": {},
   "source": [
    "## Filter"
   ]
  },
  {
   "cell_type": "code",
   "execution_count": null,
   "id": "4d929021-55b2-4b07-8e5b-26c8ce8747c9",
   "metadata": {},
   "outputs": [],
   "source": [
    "from scipy.signal import find_peaks, butter, filtfilt"
   ]
  },
  {
   "cell_type": "code",
   "execution_count": null,
   "id": "b27012df-1b74-49d2-adbf-ed54d591af88",
   "metadata": {},
   "outputs": [],
   "source": [
    "def butter_bandpass_filter(data, lowcut, highcut, fs, order=1):\n",
    "    nyq = 0.5 * fs\n",
    "    low = lowcut / nyq\n",
    "    high = highcut / nyq\n",
    "    b, a = butter(order, [low, high], btype='band')\n",
    "    y = filtfilt(b, a, data)\n",
    "    return y"
   ]
  },
  {
   "cell_type": "code",
   "execution_count": null,
   "id": "2ef78182-f8f8-4164-9d4a-282f552e0f9c",
   "metadata": {},
   "outputs": [],
   "source": [
    "fs = 3.75 # Sample rate. Adjust as needed for your data\n",
    "lowcut = 0.0003    # Adjust as needed for your data\n",
    "highcut = 1   # Adjust as needed for your data   "
   ]
  },
  {
   "cell_type": "code",
   "execution_count": null,
   "id": "bc9e2086-1658-4927-b1a6-4d6db516a421",
   "metadata": {},
   "outputs": [],
   "source": [
    "filtered_data_hab = {}\n",
    "filtered_data_FC = {}\n",
    "filtered_data_FR = {}\n",
    "filtered_data_contB = {}\n",
    "\n",
    "for i in ca_hab_dFF.columns:\n",
    "    hab_filter = butter_bandpass_filter(ca_hab_dFF.loc[:,i], lowcut, highcut, fs)\n",
    "    FC_filter = butter_bandpass_filter(ca_FC_dFF.loc[:,i], lowcut, highcut, fs)\n",
    "    FR_filter = butter_bandpass_filter(ca_FR_dFF.loc[:,i], lowcut, highcut, fs)\n",
    "    contB_filter = butter_bandpass_filter(ca_contB_dFF.loc[:,i], lowcut, highcut, fs)\n",
    "    \n",
    "    filtered_data_hab[i] = hab_filter\n",
    "    filtered_data_FC[i] = FC_filter\n",
    "    filtered_data_FR[i] = FR_filter\n",
    "    filtered_data_contB[i] = contB_filter\n",
    "\n",
    "filtered_data_hab = pd.DataFrame(filtered_data_hab)\n",
    "filtered_data_FC = pd.DataFrame(filtered_data_FC)\n",
    "filtered_data_FR = pd.DataFrame(filtered_data_FR)\n",
    "filtered_data_contB = pd.DataFrame(filtered_data_contB)"
   ]
  },
  {
   "cell_type": "code",
   "execution_count": null,
   "id": "be7d0987-a67f-4426-b77a-fbd76957cef7",
   "metadata": {},
   "outputs": [],
   "source": [
    "def peaks_func(data, start, end, BL_start, BL_end, Time, mouse):\n",
    "    if Time == 18:\n",
    "        Time = time_18min\n",
    "    else:\n",
    "        Time = time_25min\n",
    "        \n",
    "    BL_start_ind = idx_of_the_nearest(Time, BL_start)\n",
    "    BL_end_ind = idx_of_the_nearest(Time, BL_end)\n",
    "    \n",
    "    analysis_data = data.iloc[idx_of_the_nearest(Time, start):idx_of_the_nearest(Time, end)+1]\n",
    "    analysis_data = analysis_data.reset_index(drop = True)\n",
    "    \n",
    "    m = data.loc[BL_start_ind:BL_end_ind].mean()\n",
    "    sd = data.loc[BL_start_ind:BL_end_ind].std()\n",
    "        \n",
    "    peaks, _ = find_peaks(analysis_data, distance=50, width=50, height=m + sd*4)\n",
    "    amp = _['peak_heights']\n",
    "        \n",
    "    plt.figure(figsize=(20,2))\n",
    "    plt.plot(Time, data)\n",
    "    plt.plot(Time[BL_start_ind:BL_end_ind], data[BL_start_ind:BL_end_ind], color=\"red\")\n",
    "    xmin, xmax = 0, Time[-1]\n",
    "    plt.hlines(m, xmin, xmax, linestyle='dashed', color=\"gray\")\n",
    "    plt.hlines(m + sd*4, xmin, xmax, linestyle='dashed', color=\"gray\")\n",
    "    plt.title(mouse)\n",
    "    plt.plot(Time[idx_of_the_nearest(Time,870.7)], data[idx_of_the_nearest(Time, 870.7)], \"x\", color=\"blue\")\n",
    "    plt.plot(Time[idx_of_the_nearest(Time, 908.65)], data[idx_of_the_nearest(Time, 908.65)], \"x\", color=\"blue\")\n",
    "    for i in peaks:\n",
    "        plt.plot(Time[i], data[i], \"x\", color=\"red\")\n",
    "    plt.show()\n",
    "        \n",
    "    return peaks, amp"
   ]
  },
  {
   "cell_type": "code",
   "execution_count": null,
   "id": "fb247d5c-e3a1-4e5c-971d-7e74cbb61950",
   "metadata": {},
   "outputs": [],
   "source": [
    "mouse1_hab_peak, mouse1_hab_amp = peaks_func(filtered_data_hab.iloc[:, 0], 0, 1500, 60, 120, 25, \"mouse1\")\n",
    "mouse2_hab_peak, mouse2_hab_amp = peaks_func(filtered_data_hab.iloc[:, 1], 0, 1500, 420, 450, 25, \"mouse2\")\n",
    "mouse3_hab_peak, mouse3_hab_amp = peaks_func(filtered_data_hab.iloc[:, 2], 0, 1500, 420, 480, 25, \"mouse3\")\n",
    "mouse4_hab_peak, mouse4_hab_amp = peaks_func(filtered_data_hab.iloc[:, 3], 0, 1500, 480, 550, 25, \"mouse4\")\n",
    "mouse5_hab_peak, mouse5_hab_amp = peaks_func(filtered_data_hab.iloc[:, 4], 0, 1500, 480, 550, 25, \"mouse5\")\n",
    "mouse6_hab_peak, mouse6_hab_amp = peaks_func(filtered_data_hab.iloc[:, 5], 0, 1500, 470, 530, 25, \"mouse6\")\n",
    "mouse7_hab_peak, mouse7_hab_amp = peaks_func(filtered_data_hab.iloc[:, 6], 0, 1500, 0, 30, 25, \"mouse7\")"
   ]
  },
  {
   "cell_type": "code",
   "execution_count": null,
   "id": "274ea372-6383-4480-a658-8232f670d6de",
   "metadata": {},
   "outputs": [],
   "source": [
    "mouse1_FC_peak, mouse1_FC_amp = peaks_func(filtered_data_FC.iloc[:, 0], 0, 1080, 530, 590, 18, \"mouse1\")\n",
    "mouse2_FC_peak, mouse2_FC_amp = peaks_func(filtered_data_FC.iloc[:, 1], 0, 1080, 300, 360, 18, \"mouse2\")\n",
    "mouse3_FC_peak, mouse3_FC_amp = peaks_func(filtered_data_FC.iloc[:, 2], 0, 1080, 420, 500, 18, \"mouse3\")\n",
    "mouse4_FC_peak, mouse4_FC_amp = peaks_func(filtered_data_FC.iloc[:, 3], 0, 1080, 480, 550, 18, \"mouse4\")\n",
    "mouse5_FC_peak, mouse5_FC_amp = peaks_func(filtered_data_FC.iloc[:, 4], 0, 1080, 480, 550, 18, \"mouse5\")\n",
    "mouse6_FC_peak, mouse6_FC_amp = peaks_func(filtered_data_FC.iloc[:, 5], 0, 1080, 480, 550, 18, \"mouse6\")\n",
    "mouse7_FC_peak, mouse7_FC_amp = peaks_func(filtered_data_FC.iloc[:, 6], 0, 1080, 0, 30, 18, \"mouse7\")"
   ]
  },
  {
   "cell_type": "code",
   "execution_count": null,
   "id": "a8bfffdd-17cb-46e4-8b17-7f50b455ce07",
   "metadata": {},
   "outputs": [],
   "source": [
    "mouse1_FR_peak, mouse1_FR_amp = peaks_func(filtered_data_FR.iloc[:, 0], 0, 1500, 480, 550, 25, \"mouse1\")\n",
    "mouse2_FR_peak, mouse2_FR_amp = peaks_func(filtered_data_FR.iloc[:, 1], 0, 1500, 540, 560, 25, \"mouse2\")\n",
    "mouse3_FR_peak, mouse3_FR_amp = peaks_func(filtered_data_FR.iloc[:, 2], 0, 1500, 420, 500, 25, \"mouse3\")\n",
    "mouse4_FR_peak, mouse4_FR_amp = peaks_func(filtered_data_FR.iloc[:, 3], 0, 1500, 520, 570, 25, \"mouse4\")\n",
    "mouse5_FR_peak, mouse5_FR_amp = peaks_func(filtered_data_FR.iloc[:, 4], 0, 1500, 500, 550, 25, \"mouse5\")\n",
    "mouse6_FR_peak, mouse6_FR_amp = peaks_func(filtered_data_FR.iloc[:, 5], 0, 1500, 570, 590, 25, \"mouse6\")\n",
    "mouse7_FR_peak, mouse7_FR_amp = peaks_func(filtered_data_FR.iloc[:, 6], 0, 1500, 0, 30, 25, \"mouse7\")"
   ]
  },
  {
   "cell_type": "code",
   "execution_count": null,
   "id": "a23907ff-b9a7-44db-bfba-991e716a91ba",
   "metadata": {},
   "outputs": [],
   "source": [
    "mouse1_contB_peak, mouse1_contB_amp = peaks_func(filtered_data_contB.iloc[:, 0], 0, 1500, 480, 550, 25, \"mouse1\")\n",
    "mouse2_contB_peak, mouse2_contB_amp = peaks_func(filtered_data_contB.iloc[:, 1], 0, 1500, 450, 500, 25, \"mouse2\")\n",
    "mouse3_contB_peak, mouse3_contB_amp = peaks_func(filtered_data_contB.iloc[:, 2], 0, 1500, 420, 500, 25, \"mouse3\")\n",
    "mouse4_contB_peak, mouse4_contB_amp = peaks_func(filtered_data_contB.iloc[:, 3], 0, 1500, 480, 550, 25, \"mouse4\")\n",
    "mouse5_contB_peak, mouse5_contB_amp = peaks_func(filtered_data_contB.iloc[:, 4], 0, 1500, 480, 550, 25, \"mouse5\")\n",
    "mouse6_contB_peak, mouse6_contB_amp = peaks_func(filtered_data_contB.iloc[:, 5], 0, 1500, 480, 550, 25, \"mouse6\")\n",
    "mouse7_contB_peak, mouse7_contB_amp = peaks_func(filtered_data_contB.iloc[:, 6], 0, 1500, 300, 360, 25, \"mouse7\")"
   ]
  },
  {
   "cell_type": "code",
   "execution_count": null,
   "id": "bb5fe773-5718-4cc7-8bfd-37a49999481f",
   "metadata": {},
   "outputs": [],
   "source": [
    "mouse1_contB_peak_fast, mouse1_contB_amp_fast = peaks_func(filtered_data_contB.iloc[:, 0], 600, 600+420, 480, 550, 25, \"mouse1 fast\")\n",
    "mouse1_contB_peak_late, mouse1_contB_amp_late = peaks_func(filtered_data_contB.iloc[:, 0], 1020, 1500, 480, 550, 25, \"mouse1 late\")\n",
    "\n",
    "mouse2_contB_peak_fast, mouse2_contB_amp_fast = peaks_func(filtered_data_contB.iloc[:, 1], 600, 600+420, 450, 500,25, \"mouse2 fast\")\n",
    "mouse2_contB_peak_late, mouse2_contB_amp_late = peaks_func(filtered_data_contB.iloc[:, 1], 1020, 1500, 450, 500,25, \"mouse2 late\")\n",
    "\n",
    "mouse3_contB_peak_fast, mouse3_contB_amp_fast = peaks_func(filtered_data_contB.iloc[:, 2], 600, 600+420, 420, 500, 25, \"mouse3 fast\")\n",
    "mouse3_contB_peak_late, mouse3_contB_amp_late = peaks_func(filtered_data_contB.iloc[:, 2], 1020, 1500, 420, 500, 25, \"mouse3 late\")\n",
    "\n",
    "mouse4_contB_peak_fast, mouse4_contB_amp_fast = peaks_func(filtered_data_contB.iloc[:, 3], 600, 600+420, 480, 550,25, \"mouse4 fast\")\n",
    "mouse4_contB_peak_late, mouse4_contB_amp_late = peaks_func(filtered_data_contB.iloc[:, 3], 1020, 1500, 480, 550,25, \"mouse4 late\")\n",
    "\n",
    "mouse5_contB_peak_fast, mouse5_contB_amp_fast = peaks_func(filtered_data_contB.iloc[:, 4], 600, 600+420, 480, 550, 25, \"mouse5 fast\")\n",
    "mouse5_contB_peak_late, mouse5_contB_amp_late = peaks_func(filtered_data_contB.iloc[:, 4], 1020, 1500, 480, 550, 25, \"mouse5 late\")\n",
    "\n",
    "mouse6_contB_peak_fast, mouse6_contB_amp_fast = peaks_func(filtered_data_contB.iloc[:, 5], 600, 600+420, 480, 550, 25, \"mouse6 fast\")\n",
    "mouse6_contB_peak_late, mouse6_contB_amp_late = peaks_func(filtered_data_contB.iloc[:, 5], 1020, 1500, 480, 550, 25, \"mouse6 late\")\n",
    "\n",
    "mouse7_contB_peak_fast, mouse7_contB_amp_fast = peaks_func(filtered_data_contB.iloc[:, 6], 600, 600+420, 300, 360, 25, \"mouse7 fast\")\n",
    "mouse7_contB_peak_late, mouse7_contB_amp_late = peaks_func(filtered_data_contB.iloc[:, 6], 1020, 1500, 300, 360, 25, \"mouse7 late\")"
   ]
  },
  {
   "cell_type": "markdown",
   "id": "6252e758-eefa-485b-9c1a-559b37bd72ec",
   "metadata": {},
   "source": [
    "## Mean and SEM"
   ]
  },
  {
   "cell_type": "code",
   "execution_count": null,
   "id": "eeb04654-3148-4c3d-b004-1d60c2a300c5",
   "metadata": {},
   "outputs": [],
   "source": [
    "filtered_data_hab_mean = filtered_data_hab.mean(axis=1)\n",
    "filtered_data_FC_mean = filtered_data_FC.mean(axis=1)\n",
    "filtered_data_FR_mean = filtered_data_FR.mean(axis=1)\n",
    "filtered_data_contB_mean = filtered_data_contB.mean(axis=1)\n",
    "\n",
    "\n",
    "filtered_data_hab_sem = filtered_data_hab.std(axis=1, ddof=1) / np.sqrt(len(filtered_data_hab.columns))\n",
    "filtered_data_FC_sem = filtered_data_FC.std(axis=1, ddof=1) / np.sqrt(len(filtered_data_FC.columns))\n",
    "filtered_data_FR_sem = filtered_data_FR.std(axis=1, ddof=1) / np.sqrt(len(filtered_data_FR.columns))\n",
    "filtered_data_contB_sem = filtered_data_contB.std(axis=1, ddof=1) / np.sqrt(len(filtered_data_contB.columns))"
   ]
  },
  {
   "cell_type": "markdown",
   "id": "7b832522-27b6-4268-be55-168d71403f96",
   "metadata": {},
   "source": [
    "## AUC"
   ]
  },
  {
   "cell_type": "code",
   "execution_count": null,
   "id": "ba96054e-5836-4b3c-8ad9-9fc6e3a3d04a",
   "metadata": {},
   "outputs": [],
   "source": [
    "habAUC_1500sec = auc_func(filtered_data_hab, ind_0sec, ind_1500sec)\n",
    "FCAUC_1080sec = auc_func(filtered_data_FC, ind_0sec, ind_1080sec)\n",
    "FRAUC_1500sec = auc_func(filtered_data_FR, ind_0sec, ind_1500sec)\n",
    "contBAUC_1500sec = auc_func(filtered_data_contB, ind_0sec, ind_1500sec)\n",
    "\n",
    "FRfastAUC = auc_func(filtered_data_FR, fast_start, fast_end)\n",
    "FRlateAUC = auc_func(filtered_data_FR, fast_end, ind_1500sec)\n",
    "contBfastAUC = auc_func(filtered_data_contB, fast_start, fast_end)\n",
    "contBlateAUC = auc_func(filtered_data_contB, fast_end, ind_1500sec)\n",
    "\n",
    "AUC = pd.DataFrame([habAUC_1500sec, FCAUC_1080sec, FRAUC_1500sec, contBAUC_1500sec, FRfastAUC, FRlateAUC, contBfastAUC, contBlateAUC], \\\n",
    "                        index=[\"hab_1500sec\", \"FC_1080sec\", \"FR_1500sec\", \"contB_1500sec\", \"FR_fast\", \"FR_late\", \"contB_fast\", \"contB_late\"])"
   ]
  },
  {
   "cell_type": "markdown",
   "id": "eb62d22b-57f8-429c-9e4e-5112dfe4fa21",
   "metadata": {},
   "source": [
    "## Fig"
   ]
  },
  {
   "cell_type": "code",
   "execution_count": null,
   "id": "c3ad5ef1-1628-49ad-bc07-db17691f06c5",
   "metadata": {},
   "outputs": [],
   "source": [
    "Fig_start = idx_of_the_nearest(time_18min, 0)\n",
    "Fig_end = idx_of_the_nearest(time_18min, 1079.55)"
   ]
  },
  {
   "cell_type": "code",
   "execution_count": null,
   "id": "056be247-8859-4629-8241-968f13ac3cd1",
   "metadata": {},
   "outputs": [],
   "source": [
    "plt.figure(figsize=(2.5,2))\n",
    "plt.axvline(x=600, color='black', linestyle=\"--\", linewidth=0.7, zorder=1)\n",
    "\n",
    "plt.plot(time_25min[Fig_start:], filtered_data_hab.loc[Fig_start:, \"Gi3\"], lw = 0.5, color=\"black\")\n",
    "\n",
    "plt.ylim(-0.1, 0.3)\n",
    "#plt.yticks([0, 0.04, 0.08, 0.12])\n",
    "plt.xticks([120, 360, 600, 840, 1080, 1320])\n",
    "\n",
    "plt.gca().spines['right'].set_visible(False)\n",
    "plt.gca().spines['top'].set_visible(False)\n",
    "plt.gca().spines['left'].set_visible(False)\n",
    "plt.gca().spines[\"bottom\"].set_linewidth(1.5)\n",
    "plt.tick_params(length=3.5, width=1.5)\n",
    "plt.tick_params(labelbottom=False, labelleft=False)\n",
    "plt.tick_params(left=False, right=False, top=False)\n",
    "\n",
    "#plt.savefig(\"astro_ca_Gi3_hab.png\", format=\"png\", dpi=300, transparent=True)\n",
    "\n",
    "plt.show()"
   ]
  },
  {
   "cell_type": "code",
   "execution_count": null,
   "id": "2e8514d3-cd8b-41e5-9e8c-76f7e38f2549",
   "metadata": {},
   "outputs": [],
   "source": [
    "plt.figure(figsize=(2.5,2))\n",
    "plt.axvline(x=600, color='black', linestyle=\"--\", linewidth=0.7, zorder=1)\n",
    "\n",
    "\n",
    "plt.plot(time_18min[Fig_start:], filtered_data_FC.loc[Fig_start:, \"Gi3\"], lw = 0.5, color=\"black\")\n",
    "plt.plot(time_25min[Fig_start:], filtered_data_hab.loc[Fig_start:, \"Gi3\"], lw = 0.5, color=\"black\", alpha=0)\n",
    "\n",
    "plt.ylim(-0.1, 0.3)\n",
    "#plt.yticks([0, 0.04, 0.08, 0.12])\n",
    "plt.xticks([120, 360, 600, 840, 1080])\n",
    "\n",
    "plt.gca().spines['right'].set_visible(False)\n",
    "plt.gca().spines['top'].set_visible(False)\n",
    "plt.gca().spines['left'].set_visible(False)\n",
    "plt.gca().spines[\"bottom\"].set_linewidth(1.5)\n",
    "plt.tick_params(length=3.5, width=1.5)\n",
    "plt.tick_params(labelbottom=False, labelleft=False)\n",
    "plt.tick_params(left=False, right=False, top=False)\n",
    "\n",
    "#plt.savefig(\"astro_ca_Gi3_FC.png\", format=\"png\", dpi=300, transparent=True)\n",
    "\n",
    "plt.show()"
   ]
  },
  {
   "cell_type": "code",
   "execution_count": null,
   "id": "e2cf26b3-4311-4709-91a8-a9ed57516d1d",
   "metadata": {},
   "outputs": [],
   "source": [
    "plt.figure(figsize=(2.5,2))\n",
    "plt.axvline(x=600, color='black', linestyle=\"--\", linewidth=0.7, zorder=1)\n",
    "\n",
    "\n",
    "plt.plot(time_25min[Fig_start:], filtered_data_FR.loc[Fig_start:, \"Gi3\"], lw = 0.5, color=\"black\")\n",
    "\n",
    "plt.ylim(-0.1, 0.3)\n",
    "#plt.yticks([0, 0.04, 0.08, 0.12])\n",
    "plt.xticks([120, 360, 600, 840, 1080, 1320])\n",
    "\n",
    "plt.gca().spines['right'].set_visible(False)\n",
    "plt.gca().spines['top'].set_visible(False)\n",
    "plt.gca().spines['left'].set_visible(False)\n",
    "plt.gca().spines[\"bottom\"].set_linewidth(1.5)\n",
    "plt.tick_params(length=3.5, width=1.5)\n",
    "plt.tick_params(labelbottom=False, labelleft=False)\n",
    "plt.tick_params(left=False, right=False, top=False)\n",
    "\n",
    "#plt.savefig(\"astro_ca_Gi3_FR.png\", format=\"png\", dpi=300, transparent=True)\n",
    "\n",
    "plt.show()"
   ]
  },
  {
   "cell_type": "code",
   "execution_count": null,
   "id": "abab1eb8-0aa0-4689-b5b3-d12ea754ed33",
   "metadata": {},
   "outputs": [],
   "source": [
    "plt.figure(figsize=(2.5,2))\n",
    "plt.axvline(x=600, color='black', linestyle=\"--\", linewidth=0.7, zorder=1)\n",
    "\n",
    "\n",
    "plt.plot(time_25min[Fig_start:], filtered_data_contB.loc[Fig_start:, \"Gi3\"], lw = 0.5, color=\"black\")\n",
    "\n",
    "plt.ylim(-0.1, 0.3)\n",
    "#plt.yticks([0, 0.04, 0.08, 0.12])\n",
    "plt.xticks([120, 360, 600, 840, 1080, 1320])\n",
    "\n",
    "plt.gca().spines['right'].set_visible(False)\n",
    "plt.gca().spines['top'].set_visible(False)\n",
    "plt.gca().spines['left'].set_visible(False)\n",
    "plt.gca().spines[\"bottom\"].set_linewidth(1.5)\n",
    "plt.tick_params(length=3.5, width=1.5)\n",
    "plt.tick_params(labelbottom=False, labelleft=False)\n",
    "plt.tick_params(left=False, right=False, top=False)\n",
    "\n",
    "#plt.savefig(\"astro_ca_Gi3_contB.png\", format=\"png\", dpi=300, transparent=True)\n",
    "\n",
    "plt.show()"
   ]
  },
  {
   "cell_type": "code",
   "execution_count": null,
   "id": "8a2fc3bb-515a-487d-89db-fd6d70208895",
   "metadata": {},
   "outputs": [],
   "source": []
  },
  {
   "cell_type": "code",
   "execution_count": null,
   "id": "120bbc52-859e-4e95-a35e-d010407a459a",
   "metadata": {},
   "outputs": [],
   "source": []
  }
 ],
 "metadata": {
  "kernelspec": {
   "display_name": "Python 3 (ipykernel)",
   "language": "python",
   "name": "python3"
  },
  "language_info": {
   "codemirror_mode": {
    "name": "ipython",
    "version": 3
   },
   "file_extension": ".py",
   "mimetype": "text/x-python",
   "name": "python",
   "nbconvert_exporter": "python",
   "pygments_lexer": "ipython3",
   "version": "3.11.7"
  }
 },
 "nbformat": 4,
 "nbformat_minor": 5
}
